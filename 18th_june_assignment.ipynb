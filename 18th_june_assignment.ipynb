{
 "cells": [
  {
   "cell_type": "code",
   "execution_count": null,
   "id": "bccd46ca",
   "metadata": {},
   "outputs": [],
   "source": [
    "1. What is the role of the 'else' block in a try-except statement? Provide an example\n",
    "scenario where it would be useful.\n",
    "\n",
    "Ans : \n",
    "    The \"else\" block in a try-except statement is used to specify a block of code that should be executed only if \n",
    "no exceptions are raised in the associated \"try\" block. It provides an opportunity to perform actions that are\n",
    "contingent on the successful execution of the \"try\" block, separate from the exception-handling logic in the \"except\" blocks."
   ]
  },
  {
   "cell_type": "code",
   "execution_count": 1,
   "id": "70d5f903",
   "metadata": {},
   "outputs": [
    {
     "name": "stdout",
     "output_type": "stream",
     "text": [
      "Enter a positive number: 45\n",
      "Calculation successful.\n",
      "Result: 0.2222222222222222\n"
     ]
    }
   ],
   "source": [
    "try:\n",
    "    x = int(input(\"Enter a positive number: \"))\n",
    "    if x <= 0:\n",
    "        raise ValueError(\"Number must be positive.\")\n",
    "    result = 10 / x\n",
    "except ValueError as ve:\n",
    "    print(\"Error:\", ve)\n",
    "except ZeroDivisionError:\n",
    "    print(\"Error: Cannot divide by zero.\")\n",
    "else:\n",
    "    print(\"Calculation successful.\")\n",
    "    print(\"Result:\", result)\n"
   ]
  },
  {
   "cell_type": "code",
   "execution_count": null,
   "id": "421f5f32",
   "metadata": {},
   "outputs": [],
   "source": [
    "2. Can a try-except block be nested inside another try-except block? Explain with an\n",
    "example.\n",
    "\n",
    "Ans : Yes, we can have nested try-except blocks in Python. This means we can place one try-except block inside another\n",
    "      try block or inside an except block. This nesting allows us to handle different levels of exceptions and error \n",
    "      scenarios more granularly.\n"
   ]
  },
  {
   "cell_type": "code",
   "execution_count": 2,
   "id": "45480d1d",
   "metadata": {},
   "outputs": [
    {
     "name": "stdout",
     "output_type": "stream",
     "text": [
      "Enter a number: 2\n",
      "Result: 5.0\n"
     ]
    }
   ],
   "source": [
    "try:\n",
    "    num = int(input(\"Enter a number: \"))\n",
    "    \n",
    "    try:\n",
    "        result = 10 / num\n",
    "    except ZeroDivisionError:\n",
    "        print(\"Error: Cannot divide by zero.\")\n",
    "    \n",
    "except ValueError:\n",
    "    print(\"Error: Invalid input. Please enter a valid number.\")\n",
    "else:\n",
    "    print(\"Result:\", result)\n"
   ]
  },
  {
   "cell_type": "code",
   "execution_count": null,
   "id": "bc98ba77",
   "metadata": {},
   "outputs": [],
   "source": [
    "3. How can you create a custom exception class in Python? Provide an example that\n",
    "demonstrates its usage.\n",
    "\n",
    "Ans : yes, we can create custom exception class by inheriting it from biult-in Exception class.\n",
    "      This allows you to define your own exception types with custom behavior and attributes."
   ]
  },
  {
   "cell_type": "code",
   "execution_count": null,
   "id": "654214c9",
   "metadata": {},
   "outputs": [],
   "source": [
    "class CustomExceptionClass(Exception):\n",
    "    def __init__(self, message):\n",
    "        self.message = message\n",
    "        super().__init__(self.message)\n",
    "\n",
    "def divide(a, b):\n",
    "    if b == 0:\n",
    "        raise CustomError(\"Division by zero is not allowed.\")\n",
    "    return a / b\n",
    "\n",
    "try:\n",
    "    num1 = float(input(\"Enter a number: \"))\n",
    "    num2 = float(input(\"Enter another number: \"))\n",
    "    result = divide(num1, num2)\n",
    "    print(\"Result:\", result)\n",
    "except CustomError as ce:\n",
    "    print(\"Custom Error:\", ce)\n",
    "except ValueError:\n",
    "    print(\"Error: Invalid input. Please enter valid numbers.\")\n"
   ]
  },
  {
   "cell_type": "code",
   "execution_count": null,
   "id": "153b131c",
   "metadata": {},
   "outputs": [],
   "source": [
    "4. What are some common exceptions that are built-in to Python?\n",
    "\n",
    "Ans : Python has wide range of build-in exception which handles diffrent errors.\n",
    "    ex-\n",
    "    \n",
    "    FileNotFoundError: Raised when a file or directory is requested but cannot be found.\n",
    "    ImportError: Raised when an imported module or function cannot be found.\n",
    "    NameError: Raised when a local or global name is not found.\n",
    "    AttributeError: Raised when an attribute reference or assignment fails.\n",
    "    ZeroDivisionError: Raised when division or modulo by zero occurs.\n",
    "    ValueError: Raised when an operation or function receives an argument of the correct type but with an inappropriate value.\n",
    "    TypeError: Raised when an operation or function is applied to an object of an inappropriate type.\n",
    "    IndexError: Raised when a sequence subscript is out of range.\n",
    "    KeyError: Raised when a dictionary key is not found."
   ]
  },
  {
   "cell_type": "code",
   "execution_count": null,
   "id": "fb61ff16",
   "metadata": {},
   "outputs": [],
   "source": [
    "5. What is logging in Python, and why is it important in software development?\n",
    "\n",
    "Ans : Logging in Python refers to the process of recording information, events, or messages generated during \n",
    "    the execution of a program. It involves capturing various types of data, such as error messages, status updates,\n",
    "    warnings, and debugging information, and storing them in a structured and organized manner for analysis and troubleshooting.\n",
    "    \n",
    "    In software development logging will be vary usefull and it will play important role in \n",
    "    debugging and troubleshooting the code, optimizing the performance of the application,\n",
    "    to log specific events and actions for compliance and auditing purposes. Logging ensures that the necessary \n",
    "    information is recorded and can be retrieved when needed.\n",
    "    "
   ]
  },
  {
   "cell_type": "code",
   "execution_count": null,
   "id": "9dc3fe7d",
   "metadata": {},
   "outputs": [],
   "source": [
    "6. Explain the purpose of log levels in Python logging and provide examples of when\n",
    "each log level would be appropriate.\n",
    "\n",
    "ans : provide a way to categorize and prioritize log messages based on their importance and severity. \n",
    "    Each log level corresponds to a specific type of message, and these levels allow developers to control \n",
    "    the amount of information that is recorded in the logs. \n",
    "    \n",
    "    1. Debug: It provides the most detailed level of logging and is typically disabled in production.\n",
    "        \n",
    "        import logging\n",
    "        logging.basicConfig(level=DEBUG)\n",
    "        logging.debug(\"This is a debug message\")\n",
    "        \n",
    "    2. info: It provides important high-level details that can help understand the flow of the program.\n",
    "           \n",
    "        import logging\n",
    "        logging.basicConfig(level=INFO)\n",
    "        logging.debug(\"This is a info message\")\n",
    "        \n",
    "    3. Warning: Warnings are often used to alert developers about situations that should be addressed but might not be critical.\n",
    "        \n",
    "         import logging\n",
    "         logging.basicConfig(level=WARNING)\n",
    "         logging.debug(\"This is a warning message\")\n",
    "            \n",
    "    4. Error:  Used to indicate errors that caused the program to fail or behave abnormally, but the application can \n",
    "              still continue running. Errors represent issues that should be investigated and fixed.\n",
    "            \n",
    "        import logging\n",
    "        logging.basicConfig(level=ERROR)\n",
    "        logging.debug(\"This is a error message\")\n",
    "        \n",
    "    5. Critical: Used for critical errors that may lead to severe consequences or the termination of the application. Critical log \n",
    "               messages typically require immediate attention.\n",
    "            \n",
    "        import logging\n",
    "        logging.basicConfig(level=CRITICAl)\n",
    "        logging.debug(\"This is a critical error message\")"
   ]
  },
  {
   "cell_type": "code",
   "execution_count": null,
   "id": "6d7e16c2",
   "metadata": {},
   "outputs": [],
   "source": [
    "7. What are log formatters in Python logging, and how can you customise the log\n",
    "message format using formatters?\n",
    "\n",
    "Ans :Formatters allow you to control the structure and content of log messages, making them more readable and meaningful. \n",
    "    In logging module, log formatters are components that determine how log messages are formatted before \n",
    "    they are output to the desired log destinations, such as the console, files, or other logging handlers. \n",
    "    \n",
    "    Example : log formatter and how to use it to customize the log message "
   ]
  },
  {
   "cell_type": "code",
   "execution_count": null,
   "id": "54fbdc37",
   "metadata": {},
   "outputs": [],
   "source": [
    "import logging\n",
    "\n",
    "# Create a logger\n",
    "logger = logging.getLogger(\"my_logger\")\n",
    "logger.setLevel(logging.DEBUG)\n",
    "\n",
    "# Create a formatter\n",
    "formatter = logging.Formatter('%(asctime)s - %(name)s - %(levelname)s - %(message)s')\n",
    "\n",
    "# Create a handler and attach the formatter\n",
    "handler = logging.StreamHandler()\n",
    "handler.setFormatter(formatter)\n",
    "\n",
    "# Attach the handler to the logger\n",
    "logger.addHandler(handler)\n",
    "\n",
    "# Log some messages\n",
    "logger.debug(\"This is a debug message\")\n",
    "logger.info(\"This is an info message\")\n",
    "logger.warning(\"This is a warning message\")\n"
   ]
  },
  {
   "cell_type": "code",
   "execution_count": null,
   "id": "54071535",
   "metadata": {},
   "outputs": [],
   "source": [
    "8. How can you set up logging to capture log messages from multiple modules or\n",
    "classes in a Python application?\n",
    "\n",
    "Ans : Here we can create centralised logging configuration file and in that file\n",
    "    we can mention all basic configuration of logger and handler. and from that file we can \n",
    "    access logger at any part of the codebase for generating log messages of\n",
    "    diffrent levels.\n",
    "    \n",
    "    Ex : here 1st we will create logging_config.py file"
   ]
  },
  {
   "cell_type": "code",
   "execution_count": null,
   "id": "8058f5d9",
   "metadata": {},
   "outputs": [],
   "source": [
    "8. How can you set up logging to capture log messages from multiple modules or\n",
    "classes in a Python application?\n",
    "\n",
    "Ans : Here we can create centralised logging configuration file and in that file\n",
    "    we can mention all basic configuration of logger and handler. and from that file we can \n",
    "    access logger at any part of the codebase for generating log messages of\n",
    "    diffrent levels.\n",
    "    \n",
    "    Ex : here 1st we will create logging_config.py file"
   ]
  },
  {
   "cell_type": "code",
   "execution_count": null,
   "id": "a11e1f19",
   "metadata": {},
   "outputs": [],
   "source": [
    "import logging\n",
    "\n",
    "def setup_logging():\n",
    "    # Create a formatter\n",
    "    formatter = logging.Formatter('%(asctime)s - %(name)s - %(levelname)s - %(message)s')\n",
    "\n",
    "    # Create a console handler with the formatter\n",
    "    console_handler = logging.StreamHandler()\n",
    "    console_handler.setFormatter(formatter)\n",
    "\n",
    "    # Create a logger and attach the console handler\n",
    "    logger = logging.getLogger(\"my_app_logger\")\n",
    "    logger.setLevel(logging.DEBUG)\n",
    "    logger.addHandler(console_handler)\n",
    "\n",
    "    # You can add more handlers, formatters, and configuration here if needed"
   ]
  },
  {
   "cell_type": "code",
   "execution_count": null,
   "id": "120e0cf3",
   "metadata": {},
   "outputs": [],
   "source": [
    "# Now from our centralised logging configuration file we can access logger to generate\n",
    "# log messages of diffrent levels\n",
    "\n",
    "from logging_config import setup_logging\n",
    "\n",
    "setup_logging()\n",
    "logger = logging.getLogger(\"my_app_logger\")\n",
    "\n",
    "# Now you can use the logger to log messages\n",
    "logger.debug(\"This is a debug message from module X\")\n",
    "logger.info(\"This is an info message from module Y\")\n"
   ]
  },
  {
   "cell_type": "code",
   "execution_count": null,
   "id": "71ad64de",
   "metadata": {},
   "outputs": [],
   "source": [
    "9. What is the difference between the logging and print statements in Python? When\n",
    "should you use logging over print statements in a real-world application?\n",
    "\n",
    "Ans : Print:  Print statements are primarily used for displaying temporary information to the console or terminal\n",
    "              during development or quick debugging. They are not meant for structured logging or long-term use.\n",
    "            \n",
    "    logging: Logging is primarily used for capturing and managing the flow of information within an application \n",
    "             for debugging, monitoring, and analysis purposes. It provides a structured way to record events, \n",
    "             errors, warnings, and informational messages.\n",
    "                \n",
    "    When we want to display the information on console at the time of execution of program for quick \n",
    "    debugging purpose then we can use print. whereas if we want to store the information about all events for monitoring\n",
    "    and debugging and also for generating reports then we can use logging."
   ]
  },
  {
   "cell_type": "code",
   "execution_count": null,
   "id": "5c30043e",
   "metadata": {},
   "outputs": [],
   "source": [
    "10. Write a Python program that logs a message to a file named \"app.log\" with the\n",
    "following requirements:\n",
    "● The log message should be \"Hello, World!\"\n",
    "● The log level should be set to \"INFO.\"\n",
    "● The log file should append new log entries without overwriting previous ones.\n"
   ]
  },
  {
   "cell_type": "code",
   "execution_count": null,
   "id": "45971b76",
   "metadata": {},
   "outputs": [],
   "source": [
    "import logging\n",
    "\n",
    "def main():\n",
    "    # Create a logger\n",
    "    logger = logging.getLogger(\"my_logger\")\n",
    "    logger.setLevel(logging.INFO)\n",
    "\n",
    "    # Create a file handler\n",
    "    file_handler = logging.FileHandler(\"app.log\")\n",
    "    \n",
    "    # Create a formatter and attach it to the handler\n",
    "    formatter = logging.Formatter('%(asctime)s - %(levelname)s - %(message)s')\n",
    "    file_handler.setFormatter(formatter)\n",
    "\n",
    "    # Attach the handler to the logger\n",
    "    logger.addHandler(file_handler)\n",
    "\n",
    "    # Log the message\n",
    "    logger.info(\"Hello, World!\")\n",
    "\n",
    "if __name__ == \"__main__\":\n",
    "    main()\n"
   ]
  },
  {
   "cell_type": "code",
   "execution_count": null,
   "id": "68e63aca",
   "metadata": {},
   "outputs": [],
   "source": [
    "11. Create a Python program that logs an error message to the console and a file named\n",
    "\"errors.log\" if an exception occurs during the program's execution. The error\n",
    "message should include the exception type and a timestamp."
   ]
  },
  {
   "cell_type": "code",
   "execution_count": 3,
   "id": "0ecdf273",
   "metadata": {},
   "outputs": [
    {
     "name": "stderr",
     "output_type": "stream",
     "text": [
      "ERROR:root:Exception occurred:\n",
      "Traceback (most recent call last):\n",
      "  File \"C:\\Users\\akshay.kadam\\AppData\\Local\\Temp\\ipykernel_4596\\3950964640.py\", line 20, in main\n",
      "    result = 10 / 0\n",
      "ZeroDivisionError: division by zero\n"
     ]
    }
   ],
   "source": [
    "import logging\n",
    "\n",
    "def main():\n",
    "   # Create a logger\n",
    "    logger = logging.getLogger(\"my_logger\")\n",
    "    logger.setLevel(logging.INFO)\n",
    "    \n",
    "    # Create a file handler\n",
    "    file_handler = logging.FileHandler(\"errors.log\")\n",
    "    \n",
    "    # Create a formatter and attach it to the handler\n",
    "    formatter = logging.Formatter('%(asctime)s - %(levelname)s - %(message)s')\n",
    "    file_handler.setFormatter(formatter)\n",
    "\n",
    "    # Attach the handler to the logger\n",
    "    logger.addHandler(file_handler)\n",
    "\n",
    "    try:\n",
    "        # Your code that may raise an exception\n",
    "        result = 10 / 0\n",
    "    except Exception as e:\n",
    "        # Log the exception to the console and a file\n",
    "        logger.error(f\"Exception: {type(e).__name__} - {str(e)}\")\n",
    "        logging.exception(\"Exception occurred:\", exc_info=True)\n",
    "\n",
    "if __name__ == \"__main__\":\n",
    "    main()\n"
   ]
  },
  {
   "cell_type": "code",
   "execution_count": null,
   "id": "df43eba3",
   "metadata": {},
   "outputs": [],
   "source": []
  }
 ],
 "metadata": {
  "kernelspec": {
   "display_name": "Python 3 (ipykernel)",
   "language": "python",
   "name": "python3"
  },
  "language_info": {
   "codemirror_mode": {
    "name": "ipython",
    "version": 3
   },
   "file_extension": ".py",
   "mimetype": "text/x-python",
   "name": "python",
   "nbconvert_exporter": "python",
   "pygments_lexer": "ipython3",
   "version": "3.9.16"
  }
 },
 "nbformat": 4,
 "nbformat_minor": 5
}
