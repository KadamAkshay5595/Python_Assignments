{
 "cells": [
  {
   "cell_type": "code",
   "execution_count": null,
   "id": "021c74fb",
   "metadata": {},
   "outputs": [],
   "source": [
    "1. What is the primary goal of Object-Oriented Programming (OOP)?\n",
    "\n",
    "Ans : The primary goal of OOP is to provide design and structure to the computer program by\n",
    "     using the objects which are the instances of the class. \n",
    "     OOP focuses on organizing code into modular and reusable components called classes.\n",
    "    OOP has some features like-\n",
    "    \n",
    "    1. Inheritance : We can inherit/create a class from its parent class. it will inherit\n",
    "    the atrributes and methods from parent/super class. This enables code reuse and supports the creation of\n",
    "    hierarchical relationships.\n",
    "    \n",
    "    2. Polymorphism : We can create diffrent instances or methods of same class having same attributes\n",
    "    with diffrent logic. functions/methods name can be same.\n",
    "    \n",
    "    3. Abstraction: Creating simplified representations of real-world entities in the form of classes and objects,\n",
    "    focusing on relevant characteristics and ignoring unnecessary complexities.\n",
    "    \n",
    "    4. Encapsulation: The practice of hiding the internal details of an object and providing a controlled interface for \n",
    "    interacting with it. This helps to prevent unintended interference with an object's state and behavior."
   ]
  },
  {
   "cell_type": "code",
   "execution_count": null,
   "id": "f01c5bfc",
   "metadata": {},
   "outputs": [],
   "source": [
    "2. What is an object in Python?\n",
    "\n",
    "Ans : We can say object is a fundamental entity in object oriented programming. we can\n",
    "     say it is a instance of that class. it will combine bind the data and methods together. "
   ]
  },
  {
   "cell_type": "code",
   "execution_count": null,
   "id": "3a9ab2fd",
   "metadata": {},
   "outputs": [],
   "source": [
    "3. What is a class in Python?\n",
    "\n",
    "Ans : A class is we can say blueprint which defines structure,attributes and behaviour of that\n",
    "    class. this blueprint will help in creating the instances of that class which encapsulates\n",
    "    code and data together to perform a specific task. a class can have multiple instances and\n",
    "    attributes. also one class can be inherited into multiple classes."
   ]
  },
  {
   "cell_type": "code",
   "execution_count": null,
   "id": "1f3c7760",
   "metadata": {},
   "outputs": [],
   "source": [
    "4. What are attributes and methods in a class?\n",
    "\n",
    "Ans : We can say attributes are the variables which stores the data. they are also known\n",
    "    as properties or fields. it represents the characteristics of an object. attributes are defined\n",
    "    within classes and accessed by using dot notation. \n",
    "    ex - \"name\" id attribute of \"Person\" class\n",
    "    \n",
    "    Person.name"
   ]
  },
  {
   "cell_type": "code",
   "execution_count": null,
   "id": "5352598f",
   "metadata": {},
   "outputs": [],
   "source": [
    "5. What is the difference between class variables and instance variables in Python?\n",
    "\n",
    "Ans : Both the variables have diffrent scope but use is same. variables are used to store\n",
    "    data or values inside the class.\n",
    "    \n",
    "    Class Variables : Class variables are variables that are shared among all instances (objects) of a class. \n",
    "        They are defined within the class but outside of any methods. Class variables have the same value for \n",
    "        all instances of the class. When the value of a class variable is modified, the change is reflected in \n",
    "        all instances that access it.\n",
    "        \n",
    "    Instance Variables : Each instance can have different values for instance variables.\n",
    "        Instance variables represent the state or characteristics of individual objects.\n",
    "        Only that specific instance can access those varibales. these variables can not\n",
    "        be accessed outside that instance."
   ]
  },
  {
   "cell_type": "code",
   "execution_count": null,
   "id": "e216b25f",
   "metadata": {},
   "outputs": [],
   "source": [
    "6. What is the purpose of the self parameter in Python class methods?\n",
    "\n",
    "Ans :  It is a convention used to represent the object that the method is being called on.\n",
    "    The self parameter allows methods to access and manipulate the attributes and other methods of the same instance.\n",
    "    In Python, the self parameter in class methods refers to the instance of the class itself.\n",
    "    "
   ]
  },
  {
   "cell_type": "code",
   "execution_count": null,
   "id": "ed79dde7",
   "metadata": {},
   "outputs": [],
   "source": [
    "7. For a library management system, you have to design the \"Book\" class with OOP\n",
    "principles in mind. The “Book” class will have following attributes:\n",
    "a. title: Represents the title of the book.\n",
    "b. author: Represents the author(s) of the book.\n",
    "c. isbn: Represents the ISBN (International Standard Book Number) of the book.\n",
    "d. publication_year: Represents the year of publication of the book.\n",
    "e. available_copies: Represents the number of copies available for checkout.\n",
    "The class will also include the following methods:\n",
    "a. check_out(self): Decrements the available copies by one if there are copies\n",
    "available for checkout.\n",
    "b. return_book(self): Increments the available copies by one when a book is\n",
    "returned.\n",
    "c. display_book_info(self): Displays the information about the book, including its\n",
    "attributes and the number of available copies."
   ]
  },
  {
   "cell_type": "code",
   "execution_count": 1,
   "id": "a87b5e8f",
   "metadata": {},
   "outputs": [],
   "source": [
    "class Book:\n",
    "    def __init__(self,title,author,isbn,publication_year,available_copies):\n",
    "        \n",
    "    #Attributes of Book class\n",
    "        self.title = title\n",
    "        self.author = author\n",
    "        self.isbn = isbn\n",
    "        self.publication_year = publication_year\n",
    "        self.available_copies = available_copies\n",
    "        \n",
    "        \n",
    "    def check_out(self):\n",
    "        #after check_out one copy will be reduced from available copies.\n",
    "        \n",
    "        self.available_copies -= 1\n",
    "        print(f\"You took {self.title}, now available copies are : {self.available_copies}\")\n",
    "        \n",
    "    def return_book(self):\n",
    "        #after returning the book available copies will be increased by one.\n",
    "        \n",
    "        self.available_copies += 1\n",
    "        print(f\"You returned {self.title}, now available copies are : {self.available_copies}\")\n",
    "        \n",
    "    def display_book_info(self):\n",
    "        \n",
    "        # displaying information of book\n",
    "        \n",
    "        print(f\"Name of the book: {self.title}\")\n",
    "        print(f\"Author of the book: {self.author}\")\n",
    "        print(f\"ISBN of the book: {self.isbn}\")\n",
    "        print(f\"Publication year of the book: {self.publication_year}\")\n",
    "        print(f\"Available copies of the book: {self.available_copies}\")\n",
    "        \n",
    "    \n"
   ]
  },
  {
   "cell_type": "code",
   "execution_count": 2,
   "id": "2722915a",
   "metadata": {},
   "outputs": [],
   "source": [
    "obj = Book(\"The King\",\"john doe\",\"azs12088\",\"2023\",5)"
   ]
  },
  {
   "cell_type": "code",
   "execution_count": 3,
   "id": "0c1a86af",
   "metadata": {},
   "outputs": [
    {
     "name": "stdout",
     "output_type": "stream",
     "text": [
      "Name of the book: The King\n",
      "Author of the book: john doe\n",
      "ISBN of the book: azs12088\n",
      "Publication year of the book: 2023\n",
      "Available copies of the book: 5\n"
     ]
    }
   ],
   "source": [
    "obj.display_book_info()"
   ]
  },
  {
   "cell_type": "code",
   "execution_count": 4,
   "id": "6f87d73a",
   "metadata": {},
   "outputs": [
    {
     "name": "stdout",
     "output_type": "stream",
     "text": [
      "You took The King, now available copies are : 4\n"
     ]
    }
   ],
   "source": [
    "obj.check_out()"
   ]
  },
  {
   "cell_type": "code",
   "execution_count": 5,
   "id": "aa79c5d6",
   "metadata": {},
   "outputs": [
    {
     "name": "stdout",
     "output_type": "stream",
     "text": [
      "You returned The King, now available copies are : 5\n"
     ]
    }
   ],
   "source": [
    "obj.return_book()"
   ]
  },
  {
   "cell_type": "code",
   "execution_count": null,
   "id": "85237e02",
   "metadata": {},
   "outputs": [],
   "source": [
    "8. For a ticket booking system, you have to design the \"Ticket\" class with OOP\n",
    "principles in mind. The “Ticket” class should have the following attributes:\n",
    "a. ticket_id: Represents the unique identifier for the ticket.\n",
    "b. event_name: Represents the name of the event.\n",
    "c. event_date: Represents the date of the event.\n",
    "d. venue: Represents the venue of the event.\n",
    "e. seat_number: Represents the seat number associated with the ticket.\n",
    "f. price: Represents the price of the ticket.\n",
    "g. is_reserved: Represents the reservation status of the ticket.\n",
    "The class also includes the following methods:\n",
    "a. reserve_ticket(self): Marks the ticket as reserved if it is not already reserved.\n",
    "b. cancel_reservation(self): Cancels the reservation of the ticket if it is already\n",
    "reserved.\n",
    "c. display_ticket_info(self): Displays the information about the ticket, including its\n",
    "attributes and reservation status."
   ]
  },
  {
   "cell_type": "code",
   "execution_count": 11,
   "id": "a7a66fe3",
   "metadata": {},
   "outputs": [],
   "source": [
    "class Ticket:\n",
    "    \n",
    "    # attributes of the ticket class\n",
    "    def __init__(self,ticket_id,event_name,event_date,venue,seat_number,price,is_reserved):\n",
    "        \n",
    "        self.ticket_id = ticket_id\n",
    "        self.event_name = event_name\n",
    "        self.event_date = event_date\n",
    "        self.venue = venue\n",
    "        self.seat_number = seat_number\n",
    "        self.price = price\n",
    "        self.is_reserved = is_reserved\n",
    "        \n",
    "    def reserve_ticket(self):\n",
    "        \n",
    "        # reservation of ticket\n",
    "        \n",
    "        if self.is_reserved == False:\n",
    "            self.is_reserved = True\n",
    "            print(\"Congratulations !. You reserved your seat\")\n",
    "        else:\n",
    "            print(\"It is already reserved\")\n",
    "            \n",
    "    def cancel_reservation(self):\n",
    "        \n",
    "        # cancelation of reservation\n",
    "        \n",
    "        if self.is_reserved == True:\n",
    "            self.reserved = False\n",
    "            \n",
    "        else:\n",
    "            print(\"It is already Unreserved\")\n",
    "            \n",
    "    def display_ticket_info(self):\n",
    "        \n",
    "        # displaying information about ticket.\n",
    "        \n",
    "        print(f\"Ticked id is: {self.ticket_id}\")\n",
    "        print(f\"Event name is: {self.event_name}\")\n",
    "        print(f\"Event date is: {self.event_date}\")\n",
    "        print(f\"Venue is: {self.venue}\")\n",
    "        print(f\"Seat no. is: {self.seat_number}\")\n",
    "        print(f\"Price is: {self.price}\")\n",
    "        print(f\"Reservation Status : {self.is_reserved}\")"
   ]
  },
  {
   "cell_type": "code",
   "execution_count": 12,
   "id": "55327458",
   "metadata": {},
   "outputs": [],
   "source": [
    "obj2 = Ticket(\"Tck12088\",\"Circus\",\"1 Aug 2023\",\"Pune\",55,550,False)"
   ]
  },
  {
   "cell_type": "code",
   "execution_count": 13,
   "id": "c7362bf5",
   "metadata": {},
   "outputs": [
    {
     "name": "stdout",
     "output_type": "stream",
     "text": [
      "Ticked id is: Tck12088\n",
      "Event name is: Circus\n",
      "Event date is: 1 Aug 2023\n",
      "Venue is: Pune\n",
      "Seat no. is: 55\n",
      "Price is: 550\n",
      "Reservation Status : False\n"
     ]
    }
   ],
   "source": [
    "obj2.display_ticket_info()"
   ]
  },
  {
   "cell_type": "code",
   "execution_count": 14,
   "id": "2932d7c4",
   "metadata": {},
   "outputs": [
    {
     "name": "stdout",
     "output_type": "stream",
     "text": [
      "It is already Unreserved\n"
     ]
    }
   ],
   "source": [
    "obj2.cancel_reservation()"
   ]
  },
  {
   "cell_type": "code",
   "execution_count": 15,
   "id": "f3bfd036",
   "metadata": {},
   "outputs": [
    {
     "name": "stdout",
     "output_type": "stream",
     "text": [
      "Congratulations !. You reserved your seat\n"
     ]
    }
   ],
   "source": [
    "obj2.reserve_ticket()"
   ]
  },
  {
   "cell_type": "code",
   "execution_count": null,
   "id": "1cf5c526",
   "metadata": {},
   "outputs": [],
   "source": [
    "9. You are creating a shopping cart for an e-commerce website. Using OOP to model\n",
    "the \"ShoppingCart\" functionality the class should contain following attributes and\n",
    "methods:\n",
    "a. items: Represents the list of items in the shopping cart.\n",
    "The class also includes the following methods:\n",
    "\n",
    "a. add_item(self, item): Adds an item to the shopping cart by appending it to the\n",
    "list of items.\n",
    "b. remove_item(self, item): Removes an item from the shopping cart if it exists in\n",
    "the list.\n",
    "c. view_cart(self): Displays the items currently present in the shopping cart.\n",
    "d. clear_cart(self): Clears all items from the shopping cart by reassigning an\n",
    "empty list to the items attribute."
   ]
  },
  {
   "cell_type": "code",
   "execution_count": 55,
   "id": "44793321",
   "metadata": {},
   "outputs": [],
   "source": [
    "class ShoppingCart:\n",
    "    \n",
    "    def __init__(self,items = []):\n",
    "        self.items = items\n",
    "        \n",
    "    def  add_item(self, item):\n",
    "        \n",
    "        # adding an item to the cart\n",
    "        self.items.append(item)\n",
    "        print(f\"{item} added to cart\\n\")\n",
    "        \n",
    "    def  remove_item(self, item):\n",
    "        \n",
    "        # adding an item to the cart\n",
    "        self.items.remove(item)\n",
    "        print(f\"{item} removed from the cart\\n\")\n",
    "        \n",
    "    def view_cart(self):\n",
    "        \n",
    "        # displaying items in cart\n",
    "        print(\"Your Cart includes : \")\n",
    "        for i in self.items:\n",
    "            print(i,end=\",\")\n",
    "        print(\"\\n\")"
   ]
  },
  {
   "cell_type": "code",
   "execution_count": 56,
   "id": "1d8cd9af",
   "metadata": {},
   "outputs": [
    {
     "name": "stdout",
     "output_type": "stream",
     "text": [
      "Your Cart includes : \n",
      "a,b,c,\n",
      "\n",
      "x added to cart\n",
      "\n",
      "a removed from the cart\n",
      "\n",
      "Your Cart includes : \n",
      "b,c,x,\n",
      "\n"
     ]
    }
   ],
   "source": [
    "obj3 = ShoppingCart([\"a\",\"b\",\"c\"])\n",
    "obj3.view_cart()\n",
    "obj3.add_item(\"x\")\n",
    "obj3.remove_item(\"a\")\n",
    "obj3.view_cart()"
   ]
  },
  {
   "cell_type": "code",
   "execution_count": null,
   "id": "175bdf7f",
   "metadata": {},
   "outputs": [],
   "source": [
    "10. Imagine a school management system. You have to design the \"Student\" class using\n",
    "OOP concepts.The “Student” class has the following attributes:\n",
    "a. name: Represents the name of the student.\n",
    "b. age: Represents the age of the student.\n",
    "c. grade: Represents the grade or class of the student.\n",
    "d. student_id: Represents the unique identifier for the student.\n",
    "e. attendance: Represents the attendance record of the student.\n",
    "The class should also include the following methods:\n",
    "a. update_attendance(self, date, status): Updates the attendance record of the\n",
    "student for a given date with the provided status (e.g., present or absent).\n",
    "b. get_attendance(self): Returns the attendance record of the student.\n",
    "c. get_average_attendance(self): Calculates and returns the average\n",
    "attendance percentage of the student based on their attendance record."
   ]
  },
  {
   "cell_type": "code",
   "execution_count": 57,
   "id": "09a17408",
   "metadata": {},
   "outputs": [
    {
     "name": "stdout",
     "output_type": "stream",
     "text": [
      "Attendance Record: {'2023-08-01': 'absent', '2023-08-02': 'present', '2023-08-03': 'present'}\n",
      "Average Attendance: 66.66666666666666 %\n"
     ]
    }
   ],
   "source": [
    "class Student:\n",
    "    def __init__(self, name, age, grade, student_id):\n",
    "        self.name = name\n",
    "        self.age = age\n",
    "        self.grade = grade\n",
    "        self.student_id = student_id\n",
    "        self.attendance = {}  # Dictionary to store attendance (date: status)\n",
    "\n",
    "    def update_attendance(self, date, status):\n",
    "        self.attendance[date] = status\n",
    "\n",
    "    def get_attendance(self):\n",
    "        return self.attendance\n",
    "\n",
    "    def get_average_attendance(self):\n",
    "        total_days = len(self.attendance)\n",
    "        if total_days == 0:\n",
    "            return 0\n",
    "\n",
    "        present_days = sum(1 for status in self.attendance.values() if status == \"present\")\n",
    "        attendance_percentage = (present_days / total_days) * 100\n",
    "        return attendance_percentage\n",
    "\n",
    "# Creating an instance of the Student class\n",
    "student1 = Student(\"Akshay\", 26, \"10th\", \"RN12345\")\n",
    "\n",
    "# Updating attendance\n",
    "student1.update_attendance(\"2023-08-01\", \"absent\")\n",
    "student1.update_attendance(\"2023-08-02\", \"present\")\n",
    "student1.update_attendance(\"2023-08-03\", \"present\")\n",
    "\n",
    "# Getting attendance and average attendance\n",
    "attendance_record = student1.get_attendance()\n",
    "average_attendance = student1.get_average_attendance()\n",
    "\n",
    "print(\"Attendance Record:\", attendance_record)\n",
    "print(\"Average Attendance:\", average_attendance, \"%\")\n"
   ]
  },
  {
   "cell_type": "code",
   "execution_count": null,
   "id": "8bb78da1",
   "metadata": {},
   "outputs": [],
   "source": []
  }
 ],
 "metadata": {
  "kernelspec": {
   "display_name": "Python 3 (ipykernel)",
   "language": "python",
   "name": "python3"
  },
  "language_info": {
   "codemirror_mode": {
    "name": "ipython",
    "version": 3
   },
   "file_extension": ".py",
   "mimetype": "text/x-python",
   "name": "python",
   "nbconvert_exporter": "python",
   "pygments_lexer": "ipython3",
   "version": "3.9.16"
  }
 },
 "nbformat": 4,
 "nbformat_minor": 5
}
