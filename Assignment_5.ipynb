{
 "cells": [
  {
   "cell_type": "code",
   "execution_count": null,
   "id": "e7c7de0a",
   "metadata": {},
   "outputs": [],
   "source": [
    "1. What does an empty dictionary's code look like?\n",
    "\n",
    "Ans : my_dict = {}\n"
   ]
  },
  {
   "cell_type": "code",
   "execution_count": null,
   "id": "d746a27b",
   "metadata": {},
   "outputs": [],
   "source": [
    "2. What is the value of a dictionary value with the key 'foo' and the value 42?\n",
    "\n",
    "Ans : the vaLue is 42. we can see the values by using key associated\n",
    "      with that value."
   ]
  },
  {
   "cell_type": "code",
   "execution_count": null,
   "id": "4638685e",
   "metadata": {},
   "outputs": [],
   "source": [
    "3. What is the most significant distinction between a dictionary and a list?\n",
    "\n",
    "Ans : in dictionary the values will be stored in key-value pairs but \n",
    "      list will be a group of values not key-value pairs."
   ]
  },
  {
   "cell_type": "code",
   "execution_count": null,
   "id": "4dfbc558",
   "metadata": {},
   "outputs": [],
   "source": [
    "4. What happens if you try to access spam['foo'] if spam is {'bar': 100}?\n",
    "\n",
    "Ans : Since the 'foo' key is not present in that dictionary so it \n",
    "     show 'KeyError."
   ]
  },
  {
   "cell_type": "code",
   "execution_count": null,
   "id": "20aa7181",
   "metadata": {},
   "outputs": [],
   "source": [
    "5. If a dictionary is stored in spam, what is the difference between the expressions 'cat' in spam and \n",
    "'cat' in spam.keys()?\n",
    "\n",
    "Ans : 'cat' in spam is more efficent as compared to 'car' in spam.keys()\n",
    "      because in first case it will directly search that key in the present dictionary byt in second\n",
    "      case it will first collect the list of keys and then search that specific key."
   ]
  },
  {
   "cell_type": "code",
   "execution_count": null,
   "id": "823d71db",
   "metadata": {},
   "outputs": [],
   "source": [
    "6. If a dictionary is stored in spam, what is the difference between the expressions 'cat' in spam and 'cat' \n",
    "in spam.values()?\n",
    "\n",
    "Ans : in first case 'cat' will be searched in keys of that dictionary whereas in\n",
    "    second case 'cat' will be searched in values of that dictionaries."
   ]
  },
  {
   "cell_type": "code",
   "execution_count": null,
   "id": "a631fa93",
   "metadata": {},
   "outputs": [],
   "source": [
    "7. What is a shortcut for the following code?\n",
    "if 'color' not in spam:\n",
    "spam['color'] = 'black'\n",
    "\n",
    "Ans : \n",
    "    spam.setdefault('color', 'black')\n",
    "A shortcut for the given code that avoids duplication and follows a more concise approach is to \n",
    "use the dict.setdefault() method. This method allows you to set a default value for a key if the key is not already \n",
    "present in the dictionary. "
   ]
  },
  {
   "cell_type": "code",
   "execution_count": null,
   "id": "2d134022",
   "metadata": {},
   "outputs": [],
   "source": [
    "8. How do you \"pretty print\" dictionary values using which module and function?\n",
    "\n",
    "Ans : The pprint module provides the pprint() function that formats complex data structures like dictionaries \n",
    "    in a visually appealing manner. It takes care of indentation and line breaks to improve readability."
   ]
  }
 ],
 "metadata": {
  "kernelspec": {
   "display_name": "Python 3 (ipykernel)",
   "language": "python",
   "name": "python3"
  },
  "language_info": {
   "codemirror_mode": {
    "name": "ipython",
    "version": 3
   },
   "file_extension": ".py",
   "mimetype": "text/x-python",
   "name": "python",
   "nbconvert_exporter": "python",
   "pygments_lexer": "ipython3",
   "version": "3.11.3"
  }
 },
 "nbformat": 4,
 "nbformat_minor": 5
}
