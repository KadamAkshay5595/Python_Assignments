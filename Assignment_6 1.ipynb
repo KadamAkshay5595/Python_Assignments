{
 "cells": [
  {
   "cell_type": "markdown",
   "id": "f0aa5916",
   "metadata": {},
   "source": [
    "Q.1. What are keywords in python? Using the keyword library, print all the python keywords.\n",
    "\n",
    "Ans: Keywords are some specific reserved words in python. which are defined for doing specific\n",
    "     task. they are essential parts of the python programming languages.\n",
    "    "
   ]
  },
  {
   "cell_type": "code",
   "execution_count": 1,
   "id": "3ba06755",
   "metadata": {},
   "outputs": [
    {
     "name": "stdout",
     "output_type": "stream",
     "text": [
      "['False', 'None', 'True', 'and', 'as', 'assert', 'async', 'await', 'break', 'class', 'continue', 'def', 'del', 'elif', 'else', 'except', 'finally', 'for', 'from', 'global', 'if', 'import', 'in', 'is', 'lambda', 'nonlocal', 'not', 'or', 'pass', 'raise', 'return', 'try', 'while', 'with', 'yield']\n"
     ]
    }
   ],
   "source": [
    "import keyword\n",
    "\n",
    "print(keyword.kwlist)"
   ]
  },
  {
   "cell_type": "markdown",
   "id": "ea726432",
   "metadata": {},
   "source": [
    "Q.2. What are the rules to create variables in python?\n",
    "\n",
    "Ans : 1. we can not create variables with same name as keywords.\n",
    "      2. variables can be created by using small,capital letters and underscore. we can not use\n",
    "      3. special characters and spaces.\n",
    "      variable names are case-sensitive."
   ]
  },
  {
   "cell_type": "markdown",
   "id": "d530682d",
   "metadata": {},
   "source": [
    "Q.3. What are the standards and conventions followed for the nomenclature of variables in\n",
    "python to improve code readability and maintainability?\n",
    "\n",
    "Ans : 1. Use Lowercase with Underscores for seperation if variable has two words. \n",
    "      2. variable names should be descriptive so that anybody will get clearity about why it is used.\n",
    "      3. It is better to use capitalised words for constant values.\n",
    "      4. avoid naming of variable with single character.\n",
    "      "
   ]
  },
  {
   "cell_type": "markdown",
   "id": "e1d1a60f",
   "metadata": {},
   "source": [
    "Q.4. What will happen if a keyword is used as a variable name?\n",
    "\n",
    "Ans : we cant use keywor as variable name. If we use keyword for variable name then it will show syntax error."
   ]
  },
  {
   "cell_type": "markdown",
   "id": "4ee98b93",
   "metadata": {},
   "source": [
    "Q.5. For what purpose def keyword is used?\n",
    "\n",
    "Ans : def keyword is used to define or declare a function. "
   ]
  },
  {
   "cell_type": "markdown",
   "id": "4c3ce703",
   "metadata": {},
   "source": [
    "Q.6. What is the operation of this special character ‘\\’?\n",
    "\n",
    "Ans : The special character '\\' (backslash) in Python is used as an escape character. It is used to indicate that \n",
    "      the character following it should be treated specially, often to represent characters that are difficult\n",
    "      to type directly or have a special meaning in the context of strings and other literals."
   ]
  },
  {
   "cell_type": "markdown",
   "id": "9f5ec34e",
   "metadata": {},
   "source": [
    "Q.7. Give an example of the following conditions:\n",
    "(i) Homogeneous list\n",
    "(ii) Heterogeneous set\n",
    "(iii) Homogeneous tuple\n",
    "\n",
    "Ans : Homogeneous means we can say it contains elements of same datatype.\n",
    "      Heterogeneous menas it will contain elements having diffrent datatypes.\n",
    "      \n"
   ]
  },
  {
   "cell_type": "code",
   "execution_count": 3,
   "id": "d9943fbf",
   "metadata": {},
   "outputs": [
    {
     "name": "stdout",
     "output_type": "stream",
     "text": [
      "[1, 2, 3, 4, 5]\n",
      "{1, 2, 3, 4.6, 'a', 'b'}\n",
      "(1, 2, 3, 4, 5)\n"
     ]
    }
   ],
   "source": [
    "# Homogeneous List :\n",
    "\n",
    "l = [1,2,3,4,5]\n",
    "print(l)\n",
    "\n",
    "# Heterogeneous Set:\n",
    "\n",
    "s = {1,2,3,'a','b',True,4.6}\n",
    "print(s)\n",
    "\n",
    "# Homogeneous Tuple :\n",
    "\n",
    "t = (1,2,3,4,5)\n",
    "print(t)"
   ]
  },
  {
   "cell_type": "markdown",
   "id": "65fb68e1",
   "metadata": {},
   "source": [
    "Q.8. Explain the mutable and immutable data types with proper explanation & examples\n",
    "\n",
    "Ans : \n",
    "     Immutable - immutable datatypes are those who's value can not be changed. i.e it has static value.\n",
    "     if we try to change value of these object then it will create new object.\n",
    "     Ex - int/float numbers ,string,tuples are the immutable datatype.\n",
    "     \n",
    "     Mutable - values of mutable datatype objects can be changed.\n",
    "     Ex - lists,sets and dictionaries are mutable.\n",
    "     "
   ]
  },
  {
   "cell_type": "code",
   "execution_count": 4,
   "id": "d5aa4c10",
   "metadata": {},
   "outputs": [],
   "source": [
    "# Immutable datatypes- \n",
    "\n",
    "a = 3\n",
    "country = 'India'\n",
    "t = (\"a\",\"b\",\"c\",\"d\")\n",
    "\n",
    "# Mutable datatypes\n",
    "\n",
    "a = [1,2,3,4,5]\n",
    "s = {'a','b','c','d'}\n",
    "d = {'city':'pune','state':'Maharashtra'}\n"
   ]
  },
  {
   "cell_type": "code",
   "execution_count": null,
   "id": "9ad640dd",
   "metadata": {},
   "outputs": [],
   "source": [
    "Q.9. Write a code to create the given structure using only for loop.\n",
    "\n",
    "    *\n",
    "   ***\n",
    "  *****\n",
    " *******\n",
    "*********"
   ]
  },
  {
   "cell_type": "code",
   "execution_count": 7,
   "id": "724dc07c",
   "metadata": {},
   "outputs": [
    {
     "name": "stdout",
     "output_type": "stream",
     "text": [
      "    *\n",
      "   ***\n",
      "  *****\n",
      " *******\n",
      "*********\n"
     ]
    }
   ],
   "source": [
    "levels = 5\n",
    "\n",
    "for i in range(levels):\n",
    "    \n",
    "    for j in range(levels-1-i):\n",
    "        print(\" \",end=\"\")\n",
    "    for k in range(i*2+1):\n",
    "        print(\"*\",end=\"\")\n",
    "        \n",
    "    print()\n",
    "    "
   ]
  },
  {
   "cell_type": "code",
   "execution_count": null,
   "id": "2e2c13ee",
   "metadata": {},
   "outputs": [],
   "source": [
    "Q.10. Write a code to create the given structure using while loop.\n",
    "|||||||||\n",
    " |||||||\n",
    "  |||||\n",
    "   |||\n",
    "    |\n",
    "    "
   ]
  },
  {
   "cell_type": "code",
   "execution_count": 1,
   "id": "a37c5d83",
   "metadata": {},
   "outputs": [
    {
     "name": "stdout",
     "output_type": "stream",
     "text": [
      "|||||||||\n",
      " |||||||\n",
      "  |||||\n",
      "   |||\n",
      "    |\n"
     ]
    }
   ],
   "source": [
    "levels = 5 \n",
    "\n",
    "for i in range(levels):\n",
    "    \n",
    "    for j in range(i):\n",
    "        print(\" \",end=\"\")\n",
    "    for k in range(((levels-i)*2)-1):\n",
    "        print(\"|\",end=\"\")\n",
    "        \n",
    "    print()"
   ]
  },
  {
   "cell_type": "code",
   "execution_count": null,
   "id": "5f28425e",
   "metadata": {},
   "outputs": [],
   "source": []
  }
 ],
 "metadata": {
  "kernelspec": {
   "display_name": "Python 3 (ipykernel)",
   "language": "python",
   "name": "python3"
  },
  "language_info": {
   "codemirror_mode": {
    "name": "ipython",
    "version": 3
   },
   "file_extension": ".py",
   "mimetype": "text/x-python",
   "name": "python",
   "nbconvert_exporter": "python",
   "pygments_lexer": "ipython3",
   "version": "3.11.3"
  }
 },
 "nbformat": 4,
 "nbformat_minor": 5
}
