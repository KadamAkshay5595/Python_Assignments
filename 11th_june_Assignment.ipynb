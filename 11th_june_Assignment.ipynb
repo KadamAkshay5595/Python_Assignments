{
 "cells": [
  {
   "cell_type": "code",
   "execution_count": null,
   "id": "35639447",
   "metadata": {},
   "outputs": [],
   "source": [
    "1. What is a lambda function in Python, and how does it differ from a regular function?\n",
    "\n",
    "Ans : .\n",
    "     The lambda functions are simple anonymous functions in python which are used\n",
    "     to perform simple operations or mathematical task. it will avoid full pledged definition\n",
    "     of function. where have for regular function we have to provide full pledged function definintion.\n",
    "    "
   ]
  },
  {
   "cell_type": "code",
   "execution_count": null,
   "id": "4651ebeb",
   "metadata": {},
   "outputs": [],
   "source": [
    "2. Can a lambda function in Python have multiple arguments? If yes, how can you define and use\n",
    "them?\n",
    "\n",
    "Ans : \n",
    "    Yes, in lambda function we can declare multiple arguments.\n",
    "    "
   ]
  },
  {
   "cell_type": "code",
   "execution_count": 1,
   "id": "eb6bf5db",
   "metadata": {},
   "outputs": [
    {
     "name": "stdout",
     "output_type": "stream",
     "text": [
      "25.0\n"
     ]
    }
   ],
   "source": [
    "# Lambda Function\n",
    "\n",
    "# suppose we want to calculate avg of 4 numbers then we can use lambda function for it.\n",
    "\n",
    "cal_avg = lambda a,b,c,d: (a+b+c+d)/4\n",
    "\n",
    "result = cal_avg(10,20,30,40)\n",
    "print(result)"
   ]
  },
  {
   "cell_type": "code",
   "execution_count": null,
   "id": "e50a99c8",
   "metadata": {},
   "outputs": [],
   "source": [
    "3. How are lambda functions typically used in Python? Provide an example use case.\n",
    "\n",
    "Ans : it is a simple function, especially when you do not want to define a separate named function for a one-time use. \n",
    "      Lambda functions are commonly used with higher-order functions like map(), filter(), and reduce() or when \n",
    "      you need to pass a simple function as an argument to another function.\n",
    "\n",
    "     Ex - suppose, we have a list of integers and we cant to create new list by adding 10 in every elemnt of previous\n",
    "          list then we can pass map higher order function to lambda.\n",
    "    "
   ]
  },
  {
   "cell_type": "code",
   "execution_count": 2,
   "id": "6a7ce1f9",
   "metadata": {},
   "outputs": [
    {
     "name": "stdout",
     "output_type": "stream",
     "text": [
      "[11, 12, 13, 14, 15]\n"
     ]
    }
   ],
   "source": [
    "l1 = [1,2,3,4,5]\n",
    "\n",
    "new_list = list(map(lambda x : x+10, l1))\n",
    "\n",
    "print(new_list)"
   ]
  },
  {
   "cell_type": "code",
   "execution_count": null,
   "id": "8bd127e2",
   "metadata": {},
   "outputs": [],
   "source": [
    "4. What are the advantages and limitations of lambda functions compared to regular functions in\n",
    "Python?\n",
    "\n",
    "Ans :Advantages - \n",
    "       1. they are well-suited for functional programming paradigms where you pass functions as arguments to\n",
    "           other functions, like in map.\n",
    "       2. these functions can capture variables from their surrounding scope\n",
    "       3. They are convenient when you need a quick function without giving it a name.\n",
    "        \n",
    "    Disadvantages -\n",
    "       1. They restricted to a single expression, which can limit their ability to handle more complex logic. \n",
    "       2. lambda functions can only contain expressions, not statements. This means you cannot use assignments, loops,\n",
    "          or other statements inside a lambda function.\n",
    "       3. Lambda functions can be harder to debug and trace in comparison to named functions defined with def. "
   ]
  },
  {
   "cell_type": "code",
   "execution_count": null,
   "id": "8eb759aa",
   "metadata": {},
   "outputs": [],
   "source": [
    "5. Are lambda functions in Python able to access variables defined outside of their own scope?\n",
    "Explain with an example.\n",
    "\n",
    "Ans : Yes, lambda functions in Python can access variables defined outside of their own scope, \n",
    "      but they can only access variables from their containing function or global scope. This concept is\n",
    "      known as \"lexical scoping\" or \"closure.\" "
   ]
  },
  {
   "cell_type": "code",
   "execution_count": 3,
   "id": "fa89aa4e",
   "metadata": {},
   "outputs": [
    {
     "name": "stdout",
     "output_type": "stream",
     "text": [
      "15\n"
     ]
    }
   ],
   "source": [
    "def outer_function(x):\n",
    "    # Define a lambda function inside the outer_function\n",
    "    inner_lambda = lambda y: x + y\n",
    "    return inner_lambda\n",
    "\n",
    "# Create a closure by calling outer_function and passing 10 as an argument\n",
    "closure = outer_function(10)\n",
    "\n",
    "# Call the closure with an argument of 5\n",
    "result = closure(5)\n",
    "\n",
    "print(result)  # Output: 15\n"
   ]
  },
  {
   "cell_type": "code",
   "execution_count": 5,
   "id": "04cec7c9",
   "metadata": {},
   "outputs": [
    {
     "name": "stdout",
     "output_type": "stream",
     "text": [
      "Enter a number: 5\n",
      "Square of 5 is :  25\n"
     ]
    }
   ],
   "source": [
    "\"\"\" 6. Write a lambda function to calculate the square of a given number. \"\"\"\n",
    "\n",
    "a = int(input(\"Enter a number: \"))\n",
    "\n",
    "square_num = lambda x:x**2\n",
    "\n",
    "print(f\"Square of {a} is : \",square_num(a))\n",
    "    "
   ]
  },
  {
   "cell_type": "code",
   "execution_count": 6,
   "id": "6f3f96b3",
   "metadata": {},
   "outputs": [
    {
     "name": "stdout",
     "output_type": "stream",
     "text": [
      "maximum num from given list is:  9\n"
     ]
    }
   ],
   "source": [
    "\"\"\" 7. Create a lambda function to find the maximum value in a list of integers. \"\"\"\n",
    "\n",
    "l = [1,2,3,4,9,8,7]\n",
    "\n",
    "max_num = lambda x:max(x)\n",
    "\n",
    "print(\"maximum num from given list is: \",max_num(l))"
   ]
  },
  {
   "cell_type": "code",
   "execution_count": 11,
   "id": "4c06e4e9",
   "metadata": {},
   "outputs": [
    {
     "name": "stdout",
     "output_type": "stream",
     "text": [
      "Even numbers from given list are:  [2, 4, 8]\n"
     ]
    }
   ],
   "source": [
    "\"\"\" 8. Implement a lambda function to filter out all the even numbers from a list of integers. \"\"\"\n",
    "# here we can pass filter higher order function inside lambda function.\n",
    "\n",
    "l = [1,2,3,4,9,8,7]\n",
    "\n",
    "even_no = list(filter(lambda x:x%2==0,l))\n",
    "\n",
    "print(\"Even numbers from given list are: \",even_no)"
   ]
  },
  {
   "cell_type": "code",
   "execution_count": 12,
   "id": "2e10db78",
   "metadata": {},
   "outputs": [
    {
     "name": "stdout",
     "output_type": "stream",
     "text": [
      "['hi', 'pen', 'pune', 'mumbai', 'satara', 'sangli', 'maharashtra']\n"
     ]
    }
   ],
   "source": [
    "\"\"\" 9. Write a lambda function to sort a list of strings in ascending order based on the length of each\n",
    "string. \"\"\"\n",
    "\n",
    "l = ['pune','maharashtra','mumbai','satara','sangli','pen','hi']\n",
    "\n",
    "sorted_list = sorted(l, key=lambda x:len(x))\n",
    "\n",
    "print(sorted_list)"
   ]
  },
  {
   "cell_type": "code",
   "execution_count": 13,
   "id": "5de8a757",
   "metadata": {},
   "outputs": [
    {
     "name": "stdout",
     "output_type": "stream",
     "text": [
      "[4, 3, 5, 6, 7]\n"
     ]
    }
   ],
   "source": [
    "\"\"\" 10. Create a lambda function that takes two lists as input and returns a new list containing the\n",
    "common elements between the two lists. \"\"\"\n",
    "\n",
    "a = [1,2,3,4,5,6,7,8]\n",
    "b = [4,3,5,6,7]\n",
    "\n",
    "common_elements = list(filter(lambda x:x in a,b))\n",
    "\n",
    "print(common_elements)"
   ]
  },
  {
   "cell_type": "code",
   "execution_count": 1,
   "id": "32f103df",
   "metadata": {},
   "outputs": [
    {
     "data": {
      "text/plain": [
       "120"
      ]
     },
     "execution_count": 1,
     "metadata": {},
     "output_type": "execute_result"
    }
   ],
   "source": [
    "\"\"\" 11. Write a recursive function to calculate the factorial of a given positive integer.\"\"\"\n",
    "\n",
    "def factorial(a):\n",
    "    if a == 0 or a == 1:\n",
    "        return 1\n",
    "    else:\n",
    "        result = a * factorial(a-1)\n",
    "        return result\n",
    "    \n",
    "factorial(5)"
   ]
  },
  {
   "cell_type": "code",
   "execution_count": 6,
   "id": "64e8b73d",
   "metadata": {},
   "outputs": [
    {
     "name": "stdout",
     "output_type": "stream",
     "text": [
      "21\n"
     ]
    }
   ],
   "source": [
    "\"\"\" 12. Implement a recursive function to compute the nth Fibonacci number. \"\"\"\n",
    "\n",
    "def nth_fibonacci(a):\n",
    "    \n",
    "    if a <= 0 :\n",
    "        return 0\n",
    "    elif a == 1:\n",
    "        return 1\n",
    "    else:\n",
    "        \n",
    "        return nth_fibonacci(a-2)+nth_fibonacci(a-1)\n",
    "\n",
    "print(nth_fibonacci(8))"
   ]
  },
  {
   "cell_type": "code",
   "execution_count": 10,
   "id": "eb6e1af6",
   "metadata": {},
   "outputs": [
    {
     "data": {
      "text/plain": [
       "36"
      ]
     },
     "execution_count": 10,
     "metadata": {},
     "output_type": "execute_result"
    }
   ],
   "source": [
    "\"\"\" 13. Create a recursive function to find the sum of all the elements in a given list. \"\"\"\n",
    "\n",
    "a = [1,2,3,4,5,6,7,8]\n",
    "\n",
    "def list_sum(a):\n",
    "    if not a:\n",
    "        return 0\n",
    "    else:\n",
    "        return a[0] + list_sum(a[1:])\n",
    "\n",
    "list_sum(a)"
   ]
  },
  {
   "cell_type": "code",
   "execution_count": 14,
   "id": "471a3881",
   "metadata": {},
   "outputs": [
    {
     "data": {
      "text/plain": [
       "False"
      ]
     },
     "execution_count": 14,
     "metadata": {},
     "output_type": "execute_result"
    }
   ],
   "source": [
    "\"\"\" 14. Write a recursive function to determine whether a given string is a palindrome. \"\"\"\n",
    "\n",
    "def is_palindrome(s):\n",
    "    s = s.lower()  # Convert the string to lowercase for case-insensitive comparison\n",
    "    if len(s) <= 1:\n",
    "        return True\n",
    "    else:\n",
    "        return s[0] == s[-1] and is_palindrome(s[1:-1])\n",
    "    \n",
    "is_palindrome(\"skjda\")"
   ]
  },
  {
   "cell_type": "code",
   "execution_count": 17,
   "id": "03924b49",
   "metadata": {},
   "outputs": [
    {
     "data": {
      "text/plain": [
       "5"
      ]
     },
     "execution_count": 17,
     "metadata": {},
     "output_type": "execute_result"
    }
   ],
   "source": [
    "\"\"\" 15. Implement a recursive function to find the greatest common divisor (GCD) of two positive integers. \"\"\"\n",
    "\n",
    "def gcd(a, b):\n",
    "    if b == 0:\n",
    "        return a\n",
    "    else:\n",
    "        return gcd(b, a % b)\n",
    "\n",
    "gcd(20,25)\n"
   ]
  },
  {
   "cell_type": "code",
   "execution_count": null,
   "id": "a7057e8f",
   "metadata": {},
   "outputs": [],
   "source": []
  }
 ],
 "metadata": {
  "kernelspec": {
   "display_name": "Python 3 (ipykernel)",
   "language": "python",
   "name": "python3"
  },
  "language_info": {
   "codemirror_mode": {
    "name": "ipython",
    "version": 3
   },
   "file_extension": ".py",
   "mimetype": "text/x-python",
   "name": "python",
   "nbconvert_exporter": "python",
   "pygments_lexer": "ipython3",
   "version": "3.9.16"
  }
 },
 "nbformat": 4,
 "nbformat_minor": 5
}
