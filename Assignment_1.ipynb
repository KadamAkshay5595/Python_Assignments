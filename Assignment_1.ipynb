{
 "cells": [
  {
   "cell_type": "code",
   "execution_count": null,
   "id": "70310673",
   "metadata": {},
   "outputs": [],
   "source": [
    "1. In the below elements which of them are values or an expression? \n",
    "   eg:- values can be integer or string and expressions will be mathematical operators.\n",
    "    \n",
    "   \"hello\", -87.8 , 6,'-','*','/','.'\n",
    "    \n",
    "   Ans:\n",
    "    values - \"hello\", -87.8 , 6\n",
    "    expressions - '-','*','/','.'    "
   ]
  },
  {
   "cell_type": "code",
   "execution_count": null,
   "id": "79ca7904",
   "metadata": {},
   "outputs": [],
   "source": [
    "\"\"\" 2. What is the difference between string and variable?\n",
    "\n",
    "    Ans - String is a Datatype and variable is pointer to any object \"\"\""
   ]
  },
  {
   "cell_type": "code",
   "execution_count": null,
   "id": "9a45b43e",
   "metadata": {},
   "outputs": [],
   "source": [
    "3. Describe three different data types.\n",
    "\n",
    "Ans:\n",
    "    1. int : it represent any whole number whether it is zero, possitive or negative.\n",
    "             there is no limit on how long is that int value. \n",
    "            \n",
    "    2. string : it represents any character or sequence of character. it can be declared\n",
    "                either inside single quote or double Quote. everything inside quote will be considerd\n",
    "                as string\n",
    "    3. boolean : It has  only two values. either True or False"
   ]
  },
  {
   "cell_type": "code",
   "execution_count": null,
   "id": "743432f4",
   "metadata": {},
   "outputs": [],
   "source": [
    "4. What is an expression made up of? What do all expressions do?\n",
    "\n",
    "Ans: Expressions are made up of variables,operators,functions.\n",
    "     basically they are used when we want to evaluate or calculate something. \n",
    "     python interpreter will evaluate that expression.\n",
    "        "
   ]
  },
  {
   "cell_type": "code",
   "execution_count": null,
   "id": "66b1f07d",
   "metadata": {},
   "outputs": [],
   "source": [
    "5. This assignment statements, like spam = 10. What is the difference between an expression and a statement?\n",
    "\n",
    "Ans: statements can not be evaluated. they are used to declare something or for assignment of\n",
    "     value to the variables. expressions can be evaluated. python interpreter can evaluate expressions."
   ]
  },
  {
   "cell_type": "code",
   "execution_count": null,
   "id": "415de4ea",
   "metadata": {},
   "outputs": [],
   "source": [
    "6. After running the following code, what does the variable bacon contain?\n",
    "bacon = 22\n",
    "bacon + 1\n",
    "\n",
    "Ans: bacon will contain 22 because we are not storing or updating the addition result."
   ]
  },
  {
   "cell_type": "code",
   "execution_count": null,
   "id": "d25e044f",
   "metadata": {},
   "outputs": [],
   "source": [
    "7. What should the values of the following two terms be?\n",
    "'spam' + 'spamspam'\n",
    "'spam' * 3\n",
    "\n",
    "Ans : result will be \"spamspamspam\""
   ]
  },
  {
   "cell_type": "code",
   "execution_count": null,
   "id": "7c46cdb9",
   "metadata": {},
   "outputs": [],
   "source": [
    "8. Why is eggs a valid variable name while 100 is invalid?\n",
    "\n",
    "Ans: because 100 is value and we can not assign any value as variable name because variable name should be string.\n",
    "     eggs is a string, we can use it as variable name and assign any value inside that variable.\n",
    "        "
   ]
  },
  {
   "cell_type": "code",
   "execution_count": null,
   "id": "1a82be7d",
   "metadata": {},
   "outputs": [],
   "source": [
    "9. What three functions can be used to get the integer, floating-point number, or string version of a value?\n",
    "\n",
    "Ans: int(),float(),str()"
   ]
  },
  {
   "cell_type": "code",
   "execution_count": null,
   "id": "ad3abba0",
   "metadata": {},
   "outputs": [],
   "source": [
    "10. Why does this expression cause an error? How can you fix it?\n",
    "'I have eaten ' + 99 + ' burritos.'\n",
    "\n",
    "Ans:\n",
    "    because we can not concatenate/merge string with integer. we have to convert\n",
    "    that integer value into string by mentioning it inside quotes and then do concatenation.\n",
    "    \n",
    "    'I have eaten ' + '99' + ' burritos.'"
   ]
  }
 ],
 "metadata": {
  "kernelspec": {
   "display_name": "Python 3 (ipykernel)",
   "language": "python",
   "name": "python3"
  },
  "language_info": {
   "codemirror_mode": {
    "name": "ipython",
    "version": 3
   },
   "file_extension": ".py",
   "mimetype": "text/x-python",
   "name": "python",
   "nbconvert_exporter": "python",
   "pygments_lexer": "ipython3",
   "version": "3.9.16"
  }
 },
 "nbformat": 4,
 "nbformat_minor": 5
}
