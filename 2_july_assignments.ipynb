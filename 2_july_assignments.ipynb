{
 "cells": [
  {
   "cell_type": "code",
   "execution_count": null,
   "id": "a5adfbd9",
   "metadata": {},
   "outputs": [],
   "source": [
    "1. Explain what inheritance is in object-oriented programming and why it is used.\n",
    "\n",
    "Ans : Inheritance means one class(child class) can inherits or use attributes (variables and \n",
    "      methods ) of other class(super/parent class). that means child class will extends the functionalities\n",
    "      of parent class. it will increase the code reuseability of the code.\n",
    "      the main uses of inheritance are :\n",
    "        1. code reusability.\n",
    "        2. maintainance and updates : any changes made to superclass will be reflected in child class.\n",
    "        3.Subclasses can override or extend the methods and attributes inherited from the superclass. \n",
    "        This allows customization of behavior while maintaining a consistent interface defined by the superclass."
   ]
  },
  {
   "cell_type": "code",
   "execution_count": null,
   "id": "ffd406c6",
   "metadata": {},
   "outputs": [],
   "source": [
    "2. Discuss the concept of single inheritance and multiple inheritance, highlighting their\n",
    "differences and advantages.\n",
    "\n",
    "Ans : Single Inheritance:\n",
    "In single inheritance, a class can inherit from only one parent class. This means that a subclass can have one\n",
    "and only one immediate superclass. The class hierarchy forms a linear chain, where each class extends only one other class.\n",
    "\n",
    "Advantages of Single Inheritance:\n",
    "\n",
    "1. Single inheritance leads to simpler class hierarchies, making code easier to understand and maintain.\n",
    "2. Avoids Diamond Problem: The diamond problem is a complication that can arise in multiple inheritance when a class inherits\n",
    "from two classes that have a common superclass. \n",
    "\n",
    "Disadvantages of Single Inheritance:\n",
    "\n",
    "1. With single inheritance, a class is limited to inheriting from a single parent, which can restrict code \n",
    "reuse and modularity in some scenarios.\n",
    "2. Less Flexibility: Subclasses may not be able to inherit functionalities from multiple sources, potentially leading to code \n",
    "    duplication.\n",
    "\n",
    "Multiple Inheritance:\n",
    "In this a class can inherit from more than one parent class. This allows a subclass/child class to inherit attributes\n",
    "and methods from multiple superclasses. It will form complex graph-like structure.\n",
    "\n",
    "Advantages of Multiple Inheritance:\n",
    "\n",
    "1. Flexible Design\n",
    "2. Multiple inheritance provides greater code reuse by allowing a class to inherit functionalities from \n",
    "multiple sources. \n",
    "3. This promotes modularity and more efficient development.\n",
    "\n",
    "\n",
    "Disadvantages of Multiple Inheritance:\n",
    "\n",
    "1. Multiple inheritance can result in complex and hard-to-maintain class hierarchies\n",
    "2. It will be making code less readable and more error-prone.\n",
    "3. Diamond problem - when a class inherits from two classes that share a common superclass. This can lead to ambiguity\n",
    "when calling methods or accessing attributes.\n"
   ]
  },
  {
   "cell_type": "code",
   "execution_count": null,
   "id": "7a571097",
   "metadata": {},
   "outputs": [],
   "source": [
    "3. Explain the terms \"base class\" and \"derived class\" in the context of inheritance.\n",
    "\n",
    "Ans : Base Class (Superclass):\n",
    "A base class is known as a superclass or parent class, is a class that provides a set of attributes and methods that \n",
    "can be inherited by other classes. It serves as the foundation or template for creating more specialized classes.\n",
    "The base class encapsulates common behavior and characteristics that can be shared among its derived classes.\n",
    "When a class inherits from a base class, it gains access to the properties and behaviors defined in the base class.\n",
    "\n",
    "Derived Class (Subclass):\n",
    "A derived class, also known as a subclass or child class, is a class that inherits attributes and methods from a base class.\n",
    "The derived class extends or specializes the functionality of the base class by adding or modifying attributes and methods. \n",
    "It can also override methods of the base class to provide customized behavior. \n",
    "A derived class maintains the properties of the base class while introducing its own unique features."
   ]
  },
  {
   "cell_type": "code",
   "execution_count": null,
   "id": "4c80c8c6",
   "metadata": {},
   "outputs": [],
   "source": [
    "4. What is the significance of the \"protected\" access modifier in inheritance? How does\n",
    "it differ from \"private\" and \"public\" modifiers?\n",
    "\n",
    "Ans : there are 3 types of access modifiers. public,protected and public. access modifiers define the\n",
    "    accessibility of properties(attributes and methods) of the class. it will decide a class can\n",
    "    inherit which types of properties.\n",
    "    \n",
    "    Protected : The members which are protected can be accessible through that superclass as well as\n",
    "        from subclass/child class. atrributes are accessible as well as can be overridden.\n",
    "        in case of private access modifiers, those attributes or methods will be available for that class only\n",
    "        not for its subclass. whereas in public access modifiers, those can accessible from \n",
    "        anywhere from the class.\n"
   ]
  },
  {
   "cell_type": "code",
   "execution_count": null,
   "id": "f3545d5f",
   "metadata": {},
   "outputs": [],
   "source": [
    "5. What is the purpose of the \"super\" keyword in inheritance? Provide an example.\n",
    "\n",
    "Ans : the \"super\" keyword is used to refer to the parent class or superclass from within a subclass. \n",
    "    It provides a way to access and call the members of the parent class when overriding methods or extending functionality \n",
    "    in the subclass. "
   ]
  },
  {
   "cell_type": "code",
   "execution_count": null,
   "id": "6d3cd208",
   "metadata": {},
   "outputs": [],
   "source": [
    "6. Create a base class called \"Vehicle\" with attributes like \"make\", \"model\", and \"year\".\n",
    "Then, create a derived class called \"Car\" that inherits from \"Vehicle\" and adds an\n",
    "attribute called \"fuel_type\". Implement appropriate methods in both classes.\n"
   ]
  },
  {
   "cell_type": "code",
   "execution_count": 9,
   "id": "1f9d6a6b",
   "metadata": {},
   "outputs": [],
   "source": [
    "class Vehicle:\n",
    "    \n",
    "    def __init__(self,make,model,year):\n",
    "        self.make = make\n",
    "        self.model = model\n",
    "        self.year = year\n",
    "        \n",
    "    def vehicle_info(self):\n",
    "        \n",
    "        return {\n",
    "            \"make\":{self.make},\n",
    "            \"model\":{self.model},\n",
    "            \"year\":{self.year}\n",
    "        }\n",
    "    \n",
    "    \n",
    "class Car(Vehicle):\n",
    "    \n",
    "    def __init__(self,make,model,year,fuel_type):\n",
    "        \n",
    "        super().__init__(make,model,year) # accessing variables from super class\n",
    "        self.fuel_type = fuel_type\n",
    "    \n",
    "    def vehicle_info(self):\n",
    "        \n",
    "        info = super().vehicle_info() # accessing method from super class\n",
    "        \n",
    "        return f\"{info}, Fuel_Type:{self.fuel_type}\"\n",
    "    \n",
    "    def start_engine(self):\n",
    "        \n",
    "        return \"Engine Started\""
   ]
  },
  {
   "cell_type": "code",
   "execution_count": 11,
   "id": "76cdd966",
   "metadata": {},
   "outputs": [],
   "source": [
    "obj = Car(\"Toyota\",\"Fortuner\",2023,\"Diesel\")"
   ]
  },
  {
   "cell_type": "code",
   "execution_count": 12,
   "id": "db275090",
   "metadata": {},
   "outputs": [
    {
     "data": {
      "text/plain": [
       "\"{'make': {'Toyota'}, 'model': {'Fortuner'}, 'year': {2023}}, Fuel_Type:Diesel\""
      ]
     },
     "execution_count": 12,
     "metadata": {},
     "output_type": "execute_result"
    }
   ],
   "source": [
    "obj.vehicle_info()"
   ]
  },
  {
   "cell_type": "code",
   "execution_count": 13,
   "id": "96593a34",
   "metadata": {},
   "outputs": [
    {
     "data": {
      "text/plain": [
       "'Engine Started'"
      ]
     },
     "execution_count": 13,
     "metadata": {},
     "output_type": "execute_result"
    }
   ],
   "source": [
    "obj.start_engine()"
   ]
  },
  {
   "cell_type": "code",
   "execution_count": null,
   "id": "524ddc93",
   "metadata": {},
   "outputs": [],
   "source": [
    "7. Create a base class called \"Employee\" with attributes like \"name\" and \"salary.\"\n",
    "Derive two classes, \"Manager\" and \"Developer,\" from \"Employee.\" Add an additional\n",
    "attribute called \"department\" for the \"Manager\" class and \"programming_language\"\n",
    "for the \"Developer\" class.\n"
   ]
  },
  {
   "cell_type": "code",
   "execution_count": 17,
   "id": "1a2a4e9d",
   "metadata": {},
   "outputs": [],
   "source": [
    "class Employee:\n",
    "    \n",
    "    # initialising class with variables.\n",
    "    \n",
    "    def __init__(self,name,salary):\n",
    "        \n",
    "        self.name= name\n",
    "        self.salary = salary\n",
    "        \n",
    "    def info(self):\n",
    "        \n",
    "        return {\n",
    "            \"Name\":{self.name},\n",
    "            \"Salary\":{self.salary}\n",
    "        }\n",
    "    \n",
    "class Manager(Employee):\n",
    "    \n",
    "    def __init__(self,name,salary,department):\n",
    "        \n",
    "        super().__init__(name,salary)\n",
    "        self.department = department\n",
    "        \n",
    "    def info(self):\n",
    "        \n",
    "        emp_info = super().info()\n",
    "        \n",
    "        return f\"{emp_info}, Department:{self.department}\"\n",
    "    \n",
    "class Developer(Employee):\n",
    "    \n",
    "    def __init__(self,name,salary,programming_language):\n",
    "        \n",
    "        super().__init__(name,salary)\n",
    "        self.programming_language = programming_language\n",
    "        \n",
    "    def info(self):\n",
    "        \n",
    "        emp_info = super().info()\n",
    "        \n",
    "        return f\"{emp_info}, Programming_Language:{self.programming_language}\"\n",
    "    "
   ]
  },
  {
   "cell_type": "code",
   "execution_count": 18,
   "id": "594fa00e",
   "metadata": {},
   "outputs": [
    {
     "data": {
      "text/plain": [
       "\"{'Name': {'John'}, 'Salary': {90000}}, Department:HR\""
      ]
     },
     "execution_count": 18,
     "metadata": {},
     "output_type": "execute_result"
    }
   ],
   "source": [
    "obj2 = Manager(\"John\",90000,\"HR\")\n",
    "obj2.info()"
   ]
  },
  {
   "cell_type": "code",
   "execution_count": 19,
   "id": "305aa5fd",
   "metadata": {},
   "outputs": [
    {
     "data": {
      "text/plain": [
       "\"{'Name': {'sam'}, 'Salary': {60000}}, Programming_Language:python\""
      ]
     },
     "execution_count": 19,
     "metadata": {},
     "output_type": "execute_result"
    }
   ],
   "source": [
    "obj3 = Developer(\"sam\",60000,'python')\n",
    "obj3.info()"
   ]
  },
  {
   "cell_type": "code",
   "execution_count": null,
   "id": "91cec82b",
   "metadata": {},
   "outputs": [],
   "source": [
    "8. Design a base class called \"Shape\" with attributes like \"colour\" and \"border_width.\"\n",
    "Create derived classes, \"Rectangle\" and \"Circle,\" that inherit from \"Shape\" and add\n",
    "specific attributes like \"length\" and \"width\" for the \"Rectangle\" class and \"radius\" for\n",
    "the \"Circle\" class.\n"
   ]
  },
  {
   "cell_type": "code",
   "execution_count": 2,
   "id": "2f508888",
   "metadata": {},
   "outputs": [],
   "source": [
    "class Shape:\n",
    "    \n",
    "    def __init__(self,colour,border_width):\n",
    "        self.colour = colour\n",
    "        self.border_width = border_width\n",
    "        \n",
    "    def info(self):\n",
    "        \n",
    "        return {\n",
    "            \"colour\":self.colour,\n",
    "            \"border_width\":self.border_width\n",
    "        }\n",
    "    \n",
    "class Rectangle(Shape):\n",
    "    \n",
    "    def __init__(self,colour,border_width,length,width):\n",
    "        \n",
    "        super().__init__(colour,border_width)\n",
    "        self.length = length\n",
    "        self.width = width\n",
    "        \n",
    "    def info(self):\n",
    "        \n",
    "        shape_info = super().info()\n",
    "        return f\"{shape_info}, Length:{self.length}, Width:{self.width}\"\n",
    "    \n",
    "class Circle(Shape):\n",
    "    \n",
    "    def __init__(self,colour,border_width,radius):\n",
    "        \n",
    "        super().__init__(colour,border_width)\n",
    "        self.radius = radius\n",
    "        \n",
    "        \n",
    "    def info(self):\n",
    "        \n",
    "        shape_info = super().info()\n",
    "        return f\"{shape_info}, radius:{self.radius}\""
   ]
  },
  {
   "cell_type": "code",
   "execution_count": 3,
   "id": "30b43f3e",
   "metadata": {},
   "outputs": [
    {
     "data": {
      "text/plain": [
       "\"{'colour': 'Red', 'border_width': 3}, Length:20, Width:10\""
      ]
     },
     "execution_count": 3,
     "metadata": {},
     "output_type": "execute_result"
    }
   ],
   "source": [
    "obj4 = Rectangle(\"Red\",3,20,10)\n",
    "obj4.info()"
   ]
  },
  {
   "cell_type": "code",
   "execution_count": 4,
   "id": "411cfe66",
   "metadata": {},
   "outputs": [
    {
     "data": {
      "text/plain": [
       "\"{'colour': 'Black', 'border_width': 3}, radius:20\""
      ]
     },
     "execution_count": 4,
     "metadata": {},
     "output_type": "execute_result"
    }
   ],
   "source": [
    "obj5 = Circle(\"Black\",3,20)\n",
    "obj5.info()"
   ]
  },
  {
   "cell_type": "code",
   "execution_count": null,
   "id": "1a883a2b",
   "metadata": {},
   "outputs": [],
   "source": [
    "9. Create a base class called \"Device\" with attributes like \"brand\" and \"model.\" Derive\n",
    "two classes, \"Phone\" and \"Tablet,\" from \"Device.\" Add specific attributes like\n",
    "\"screen_size\" for the \"Phone\" class and \"battery_capacity\" for the \"Tablet\" class."
   ]
  },
  {
   "cell_type": "code",
   "execution_count": 1,
   "id": "12d9ea05",
   "metadata": {},
   "outputs": [],
   "source": [
    "class Device:\n",
    "    \n",
    "    def __init__(self,brand,model):\n",
    "        \n",
    "        self.brand=brand\n",
    "        self.model=model\n",
    "        \n",
    "    def display_info(self):\n",
    "        \n",
    "        return f\"Brand : {self.brand}, Model:{self.model}\"\n",
    "    \n",
    "class Phone(Device):\n",
    "    \n",
    "    def __init__(self,brand,model,screen_size):\n",
    "        \n",
    "        super().__init__(brand,model)\n",
    "        self.screen_size = screen_size\n",
    "        \n",
    "    def display_info(self):\n",
    "        \n",
    "        info = super().display_info()\n",
    "        \n",
    "        return f\"{info}, screen_size:{self.screen_size}\"\n",
    "    \n",
    "class Tablet(Device):\n",
    "    \n",
    "    def __init__(self,brand,model,battery_capacity):\n",
    "        \n",
    "        super().__init__(brand,model)\n",
    "        self.battery_capacity = battery_capacity\n",
    "        \n",
    "    def display_info(self):\n",
    "        \n",
    "        info = super().display_info()\n",
    "        \n",
    "        return f\"{info}, battery_capacity:{self.battery_capacity}\"\n",
    "    \n",
    "\n",
    "        "
   ]
  },
  {
   "cell_type": "code",
   "execution_count": 2,
   "id": "430c340d",
   "metadata": {},
   "outputs": [
    {
     "data": {
      "text/plain": [
       "'Brand : Samsung, Model:S20-Ultra, screen_size:8 inch'"
      ]
     },
     "execution_count": 2,
     "metadata": {},
     "output_type": "execute_result"
    }
   ],
   "source": [
    "obj6 = Phone(\"Samsung\",\"S20-Ultra\",\"8 inch\")\n",
    "obj6.display_info()"
   ]
  },
  {
   "cell_type": "code",
   "execution_count": 3,
   "id": "0b1baba4",
   "metadata": {},
   "outputs": [
    {
     "data": {
      "text/plain": [
       "'Brand : Oppo, Model:Tab-4, battery_capacity:7100 mh'"
      ]
     },
     "execution_count": 3,
     "metadata": {},
     "output_type": "execute_result"
    }
   ],
   "source": [
    "obj7 = Tablet(\"Oppo\",\"Tab-4\",\"7100 mh\")\n",
    "obj7.display_info()"
   ]
  },
  {
   "cell_type": "code",
   "execution_count": null,
   "id": "f17e92df",
   "metadata": {},
   "outputs": [],
   "source": [
    "10. Create a base class called \"BankAccount\" with attributes like \"account_number\" and\n",
    "\"balance.\" Derive two classes, \"SavingsAccount\" and \"CheckingAccount,\" from\n",
    "\"BankAccount.\" Add specific methods like \"calculate_interest\" for the\n",
    "\"SavingsAccount\" class and \"deduct_fees\" for the \"CheckingAccount\" class."
   ]
  },
  {
   "cell_type": "code",
   "execution_count": 5,
   "id": "43548fd7",
   "metadata": {},
   "outputs": [],
   "source": [
    "class BankAccount:\n",
    "    \n",
    "    def __init__(self,account_number,balance):\n",
    "        \n",
    "        self.account_number = account_number\n",
    "        self.balance = balance\n",
    "        \n",
    "    def balance_info(self):\n",
    "        \n",
    "        return f\"your account balance is : {self.balance}\"\n",
    "    \n",
    "class SavingAccount(BankAccount):\n",
    "    \n",
    "    def __init__(self,account_number,balance,int_rate):\n",
    "        \n",
    "        super().__init__(account_number,balance)\n",
    "        self.int_rate = int_rate\n",
    "        \n",
    "    def calculate_intrest(self):\n",
    "        \n",
    "        interest = (self.balance/100)*self.int_rate\n",
    "        \n",
    "        return f\"Intrest on you current balance {self.balance} Rs is = {interest} Rs\"\n",
    "    \n",
    "class CheckingAccount(BankAccount):\n",
    "    \n",
    "    def __init__(self,account_number,balance,fees):\n",
    "        \n",
    "        super().__init__(account_number,balance)\n",
    "        self.fees = fees\n",
    "        \n",
    "    def deduct_fees(self):\n",
    "        \n",
    "        new_balance = self.balance - self.fees\n",
    "        \n",
    "        return f\"Your Updated Balance is: {new_balance} Rs\"\n",
    "    "
   ]
  },
  {
   "cell_type": "code",
   "execution_count": 6,
   "id": "ff67d29f",
   "metadata": {},
   "outputs": [
    {
     "data": {
      "text/plain": [
       "'Intrest on you current balance 5000 Rs is = 500.0 Rs'"
      ]
     },
     "execution_count": 6,
     "metadata": {},
     "output_type": "execute_result"
    }
   ],
   "source": [
    "my_acc = SavingAccount(\"SBI21345\",5000,10)\n",
    "my_acc.calculate_intrest()"
   ]
  },
  {
   "cell_type": "code",
   "execution_count": 7,
   "id": "4cd10c50",
   "metadata": {},
   "outputs": [
    {
     "data": {
      "text/plain": [
       "'Your Updated Balance is: 69452 Rs'"
      ]
     },
     "execution_count": 7,
     "metadata": {},
     "output_type": "execute_result"
    }
   ],
   "source": [
    "my_new_acc = CheckingAccount(\"HDFC2453\",70000,548)\n",
    "my_new_acc.deduct_fees()"
   ]
  },
  {
   "cell_type": "code",
   "execution_count": null,
   "id": "e359125b",
   "metadata": {},
   "outputs": [],
   "source": []
  }
 ],
 "metadata": {
  "kernelspec": {
   "display_name": "Python 3 (ipykernel)",
   "language": "python",
   "name": "python3"
  },
  "language_info": {
   "codemirror_mode": {
    "name": "ipython",
    "version": 3
   },
   "file_extension": ".py",
   "mimetype": "text/x-python",
   "name": "python",
   "nbconvert_exporter": "python",
   "pygments_lexer": "ipython3",
   "version": "3.9.16"
  }
 },
 "nbformat": 4,
 "nbformat_minor": 5
}
