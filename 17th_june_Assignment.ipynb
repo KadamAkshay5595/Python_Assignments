{
 "cells": [
  {
   "cell_type": "code",
   "execution_count": null,
   "id": "4ac58c3c",
   "metadata": {},
   "outputs": [],
   "source": [
    "1. What is the role of try and exception block?\n",
    "\n",
    "Ans : \n",
    "    These blocks are used in programming languages, particularly in Python, to handle exceptions or errors\n",
    "    that may occur during the execution of a program. They provide a structured way to manage unexpected or \n",
    "    exceptional situations, allowing the program to gracefully handle errors and continue running rather \n",
    "    than crashing abruptly."
   ]
  },
  {
   "cell_type": "code",
   "execution_count": null,
   "id": "08707aed",
   "metadata": {},
   "outputs": [],
   "source": [
    "2. What is the syntax for a basic try-except block?\n",
    "\n",
    "Ans : the syntax of try-except for exceptional in python -\n",
    "    \n",
    "    try:\n",
    "    # Code that might raise an exception\n",
    "    # ...\n",
    "    except ExceptionType:\n",
    "    # Code to handle the specific exception\n",
    "    # ...\n"
   ]
  },
  {
   "cell_type": "code",
   "execution_count": null,
   "id": "5781faca",
   "metadata": {},
   "outputs": [],
   "source": [
    "3. What happens if an exception occurs inside a try block and there is no matching\n",
    "except block?\n",
    "\n",
    "Ans : \n",
    "    If an exception occurs inside a try block and there is no matching except block to catch and handle that \n",
    "specific exception, the program will terminate and an error message will be displayed. This can lead to an \n",
    "unhandled exception or error, which might cause the program to crash or behave unexpectedly."
   ]
  },
  {
   "cell_type": "code",
   "execution_count": null,
   "id": "b9639bd4",
   "metadata": {},
   "outputs": [],
   "source": [
    "4. What is the difference between using a bare except block and specifying a specific\n",
    "exception type?\n",
    "\n",
    "Ans : 1. Bare-Exception handling :  bare except block catches all types of exceptions that may occur within the try\n",
    "        block. It does not differentiate between different types of exceptions, which can make it difficult to \n",
    "        diagnose and handle specific issues. \n",
    "        \n",
    "    2. Specific-Exception handling : Using a specific exception type in the except block allows you to catch and handle \n",
    "        only the designated type of exception. This approach provides more precise error handling, making it easier to \n",
    "        understand and troubleshoot issues. You can have multiple except blocks to handle different types of exceptions."
   ]
  },
  {
   "cell_type": "code",
   "execution_count": null,
   "id": "fbed12b1",
   "metadata": {},
   "outputs": [],
   "source": [
    "5. Can you have nested try-except blocks in Python? If yes, then give an example.\n",
    "\n",
    "Ans : Yes, we can have nested try-except blocks in Python. This means we can place one try-except block inside another\n",
    "      try block or inside an except block. This nesting allows us to handle different levels of exceptions and error \n",
    "      scenarios more granularly."
   ]
  },
  {
   "cell_type": "code",
   "execution_count": 4,
   "id": "72a23d6a",
   "metadata": {},
   "outputs": [
    {
     "name": "stdout",
     "output_type": "stream",
     "text": [
      "Enter a number: cddsa\n",
      "Error: Invalid input. Please enter a valid number.\n"
     ]
    }
   ],
   "source": [
    "try:\n",
    "    num = int(input(\"Enter a number: \"))\n",
    "    \n",
    "    try:\n",
    "        result = 10 / num\n",
    "    except ZeroDivisionError:\n",
    "        print(\"Error: Cannot divide by zero.\")\n",
    "    \n",
    "except ValueError:\n",
    "    print(\"Error: Invalid input. Please enter a valid number.\")\n",
    "else:\n",
    "    print(\"Result:\", result)\n"
   ]
  },
  {
   "cell_type": "code",
   "execution_count": null,
   "id": "61ae7ca6",
   "metadata": {},
   "outputs": [],
   "source": [
    "6. Can we use multiple exception blocks, if yes then give an example.\n",
    "\n",
    "Ans : \n",
    "Yes, you can use multiple exception blocks in a single try-except statement to handle different types \n",
    "of exceptions separately. This allows you to provide specific error handling for each type of exception that\n",
    "may occur within the try block."
   ]
  },
  {
   "cell_type": "code",
   "execution_count": 9,
   "id": "b115aede",
   "metadata": {},
   "outputs": [
    {
     "name": "stdout",
     "output_type": "stream",
     "text": [
      "Enter a number : 0\n",
      "you can not devide number by zero\n"
     ]
    }
   ],
   "source": [
    "# one try block with multiple except block to handle specific type of exceptions\n",
    "\n",
    "a = int(input(\"Enter a number : \"))\n",
    "\n",
    "try : \n",
    "    x = 10/a\n",
    "    print(\"result is :\",x)\n",
    "except ZeroDivisionError as e:\n",
    "    print(\"you can not devide number by zero\")\n",
    "except ValueError:\n",
    "    print(\"You have enterd wrong input\")\n",
    "except Exception as e:\n",
    "    print(\"unknown exception occured: \",e)"
   ]
  },
  {
   "cell_type": "code",
   "execution_count": null,
   "id": "c2150f87",
   "metadata": {},
   "outputs": [],
   "source": [
    "7. Write the reason due to which following errors are raised:\n",
    "a. EOFError\n",
    "b. FloatingPointError\n",
    "c. IndexError\n",
    "d. MemoryError\n",
    "e. OverflowError\n",
    "f. TabError\n",
    "g. ValueError\n",
    "\n",
    "Ans : \n",
    "\n",
    "a. EOFError => This error occurs when an input operation (such as reading from the standard input) hits the\n",
    "end-of-file condition unexpectedly. It indicates that there is no more data to read, but the program was\n",
    "trying to read more.\n",
    "\n",
    "b. FloatingPointError => This error occurs when a floating-point operation (e.g., division by zero or an invalid operation)\n",
    "produces an exception that is not covered by more specific exceptions like ZeroDivisionError.\n",
    "\n",
    "c. IndexError => This error occurs when you try to access an index of a sequence (e.g., list, tuple, string) \n",
    "that is out of bounds. \n",
    "\n",
    "\n",
    "d. MemoryError =>  This error occurs when your program runs out of available memory to allocate. It happens when\n",
    "you're trying to create a new object or allocate memory but there's not enough memory space available.\n",
    "\n",
    "e. OverflowError => This error occurs when a mathematical operation results in a value that is too large (or too small) \n",
    "to be represented by the data type being used.\n",
    "\n",
    "f. TabError => This error occurs when there is an issue with the indentation of code using tabs and spaces inconsistently. \n",
    "\n",
    "g. ValueError =>  This error occurs when a function receives an argument of the correct data type but an invalid value. \n",
    "It generally indicates that the input value is inappropriate for the operation being performed.\n"
   ]
  },
  {
   "cell_type": "code",
   "execution_count": null,
   "id": "f1d27119",
   "metadata": {},
   "outputs": [],
   "source": [
    "8. Write code for the following given scenario and add try-exception block to it.\n",
    "a. Program to divide two numbers\n",
    "b. Program to convert a string to an integer\n",
    "c. Program to access an element in a list\n",
    "d. Program to handle a specific exception\n",
    "e. Program to handle any exception  \n",
    "\n"
   ]
  },
  {
   "cell_type": "code",
   "execution_count": 11,
   "id": "63a080cb",
   "metadata": {},
   "outputs": [
    {
     "name": "stdout",
     "output_type": "stream",
     "text": [
      "Enter 1st no.4\n",
      "Enter 2nd no.0\n",
      "You can not devide any no. by zero\n"
     ]
    }
   ],
   "source": [
    "#a. Program to divide two numbers\n",
    "\n",
    "try:\n",
    "    a = int(input(\"Enter 1st no.\"))\n",
    "    b = int(input(\"Enter 2nd no.\"))\n",
    "    \n",
    "    result = a/b\n",
    "    print(\"division result is : \",result)\n",
    "    \n",
    "except ZeroDivisionError:\n",
    "    print(\"You can not devide any no. by zero\")\n",
    "    \n",
    "except ValueError:\n",
    "    print(\"Incorrect input\")\n",
    "    "
   ]
  },
  {
   "cell_type": "code",
   "execution_count": 17,
   "id": "2b9a94ce",
   "metadata": {},
   "outputs": [
    {
     "name": "stdout",
     "output_type": "stream",
     "text": [
      "fdsa\n",
      "invalid literal. you can't convert characters into integer\n"
     ]
    }
   ],
   "source": [
    "# b. Program to convert a string to an integer\n",
    "\n",
    "try : \n",
    "    a =input()\n",
    "    print(\"Integer value is : \",int(a))\n",
    "    \n",
    "except ValueError:\n",
    "    print(\"invalid literal. you can't convert characters into integer\")\n",
    "    \n"
   ]
  },
  {
   "cell_type": "code",
   "execution_count": 9,
   "id": "73d8f5ac",
   "metadata": {},
   "outputs": [
    {
     "name": "stdout",
     "output_type": "stream",
     "text": [
      "Enter an index: 7\n",
      "Error: Index out of range.\n"
     ]
    }
   ],
   "source": [
    "#c. Program to access an element in a list\n",
    "\n",
    "my_list = [1, 2, 3, 4, 5]\n",
    "\n",
    "try:\n",
    "    index = int(input(\"Enter an index: \"))\n",
    "    element = my_list[index]\n",
    "    print(\"Element at index\", index, \":\", element)\n",
    "except IndexError:\n",
    "    print(\"Error: Index out of range.\")\n",
    "except ValueError:\n",
    "    print(\"Error: Invalid input. Please enter a valid index.\")"
   ]
  },
  {
   "cell_type": "code",
   "execution_count": 10,
   "id": "f8c6395f",
   "metadata": {},
   "outputs": [
    {
     "name": "stdout",
     "output_type": "stream",
     "text": [
      "Enter a number: hffh\n",
      "Unknown exception invalid literal for int() with base 10: 'hffh'\n"
     ]
    }
   ],
   "source": [
    "# d. Program to handle a specific exception\n",
    "# e. Program to handle any exception  \n",
    "\n",
    "try:\n",
    "    x = int(input(\"Enter a number: \"))\n",
    "    if x < 0:\n",
    "        raise ValueError(\"Negative numbers are not allowed.\")\n",
    "    result = 10 / x\n",
    "    print(\"Result:\", result)\n",
    "except ZeroDivisionError:   # Specific Exception\n",
    "    print(\"Error: Cannot divide by zero.\")\n",
    "except Exception as e:     # any exception\n",
    "    print(\"Unknown exception\", e)\n"
   ]
  },
  {
   "cell_type": "code",
   "execution_count": null,
   "id": "d3cac468",
   "metadata": {},
   "outputs": [],
   "source": []
  }
 ],
 "metadata": {
  "kernelspec": {
   "display_name": "Python 3 (ipykernel)",
   "language": "python",
   "name": "python3"
  },
  "language_info": {
   "codemirror_mode": {
    "name": "ipython",
    "version": 3
   },
   "file_extension": ".py",
   "mimetype": "text/x-python",
   "name": "python",
   "nbconvert_exporter": "python",
   "pygments_lexer": "ipython3",
   "version": "3.9.16"
  }
 },
 "nbformat": 4,
 "nbformat_minor": 5
}
