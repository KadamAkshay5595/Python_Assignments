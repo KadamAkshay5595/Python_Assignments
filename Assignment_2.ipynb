{
 "cells": [
  {
   "cell_type": "markdown",
   "id": "7a537217",
   "metadata": {},
   "source": [
    "1.What are the two values of the Boolean data type? How do you write them?\n",
    "\n",
    "Ans:\n",
    "    The boolean datatype has two values which are True and False"
   ]
  },
  {
   "cell_type": "markdown",
   "id": "d08885d2",
   "metadata": {},
   "source": [
    "2. What are the three different types of Boolean operators?\n",
    "\n",
    "Ans:\n",
    "    AND,OR and NOT these are the 3 diffrent boolean operators"
   ]
  },
  {
   "cell_type": "code",
   "execution_count": null,
   "id": "c14cc5f6",
   "metadata": {},
   "outputs": [],
   "source": [
    "3. Make a list of each Boolean operator's truth tables \n",
    "(i.e. every possible combination of Boolean values for the operator and what it evaluate ).\n",
    "\n",
    "consider True = 1 and False = 0\n",
    "\n",
    "1) AND:\n",
    "\n",
    "A B A&B\n",
    "0 0 0\n",
    "0 1 0\n",
    "1 0 0\n",
    "1 1 1\n",
    "\n",
    "2) OR:\n",
    "\n",
    "A B A|B\n",
    "0 0 0\n",
    "0 1 1\n",
    "1 0 1\n",
    "1 1 1\n",
    "\n",
    "3) NOT:\n",
    "\n",
    "A NOT(A)\n",
    "0 1\n",
    "1 0"
   ]
  },
  {
   "cell_type": "code",
   "execution_count": null,
   "id": "cae68aa3",
   "metadata": {},
   "outputs": [],
   "source": [
    "4. What are the values of the following expressions?\n",
    "\n",
    "(5 > 4) and (3 == 5)\n",
    "Ans - False\n",
    "\n",
    "not (5 > 4)\n",
    "Ans - False\n",
    "\n",
    "(5 > 4) or (3 == 5)\n",
    "Ans - True\n",
    "\n",
    "not ((5 > 4) or (3 == 5))\n",
    "Ans - False\n",
    "\n",
    "(True and True) and (True == False)\n",
    "Ans - False\n",
    "\n",
    "(not False) or (not True)\n",
    "Ans - True"
   ]
  },
  {
   "cell_type": "markdown",
   "id": "533fe541",
   "metadata": {},
   "source": [
    "5. What are the six comparison operators?\n",
    "\n",
    "Ans: ==, !=, <, >, <=, and >="
   ]
  },
  {
   "cell_type": "code",
   "execution_count": 3,
   "id": "2c1b91dd",
   "metadata": {},
   "outputs": [
    {
     "name": "stdout",
     "output_type": "stream",
     "text": [
      "False\n",
      "5\n"
     ]
    }
   ],
   "source": [
    "\"\"\"6. How do you tell the difference between the equal to and assignment operators?\n",
    "Describe a condition and when you would use one.\n",
    "\n",
    "Ans:\n",
    "    if we want to compare one variable with another then we use \"==\" this comparison operator and its\n",
    "    result will be boolean that is true or false.\n",
    "    when we want to assign value to variable then we use \"=\" operator. \"\"\"\n",
    "\n",
    "#Comparison between 5 and 6\n",
    "print(5==6)\n",
    "\n",
    "#assigning value to variable\n",
    "a = 5\n",
    "print(a)"
   ]
  },
  {
   "cell_type": "code",
   "execution_count": null,
   "id": "332e8639",
   "metadata": {},
   "outputs": [],
   "source": [
    "7. Identify the three blocks in this code:\n",
    "    \n",
    "spam = 0\n",
    "if spam == 10:\n",
    "    print('eggs')\n",
    "if spam > 5:\n",
    "    print('bacon')\n",
    "else:\n",
    "    print('ham')\n",
    "    print('spam')\n",
    "    print('spam')\n",
    "\n",
    "\" Ans : 2 if and 1 else block is There \""
   ]
  },
  {
   "cell_type": "code",
   "execution_count": 4,
   "id": "10f86a17",
   "metadata": {},
   "outputs": [
    {
     "name": "stdout",
     "output_type": "stream",
     "text": [
      "Enter value of spam: 2\n",
      "Howdy\n"
     ]
    }
   ],
   "source": [
    "\"\"\"8. Write code that prints Hello if 1 is stored in spam, prints Howdy if 2 is stored in spam, and prints Greetings! \n",
    "if anything else is stored in spam.\"\"\"\n",
    "\n",
    "spam = int(input(\"Enter value of spam: \"))\n",
    "if spam == 1:\n",
    "    print(\"Hello\")\n",
    "elif spam == 2:\n",
    "    print(\"Howdy\")\n",
    "else:\n",
    "    print(\"Greetings!\")"
   ]
  },
  {
   "cell_type": "code",
   "execution_count": null,
   "id": "6c843d52",
   "metadata": {},
   "outputs": [],
   "source": [
    "9.If your programme is stuck in an endless loop, what keys you’ll press?\n",
    "\n",
    "Ans : Ctrl + c"
   ]
  },
  {
   "cell_type": "code",
   "execution_count": null,
   "id": "099ce9d4",
   "metadata": {},
   "outputs": [],
   "source": [
    "10. How can you tell the difference between break and continue?\n",
    "\n",
    "Ans:\n",
    "    break means when specific condition will met then it will exit that loop\n",
    "    continue means when specific condition will met it will skip execution for that condition only."
   ]
  },
  {
   "cell_type": "code",
   "execution_count": null,
   "id": "ce38bd82",
   "metadata": {},
   "outputs": [],
   "source": [
    "11. In a for loop, what is the difference between range(10), range(0, 10), and range(0, 10, 1)?\n",
    "\n",
    "Ans:\n",
    "    output of all the 3 range values will be same. that is from 0 to 9\n",
    "    range(10) - here start is not mentioned so by default it wil start from 0 and end is 9 because last number is exclusive\n",
    "    range(0, 10) - here start will be 0 and end is 10 but it is exclusive so it will also take value from o to 9\n",
    "    range(0, 10, 1) - here start , end and step size is mentioned. be default step size is 1 but we can change it\n",
    "                      if we want to take alternate number then we can use step size 2"
   ]
  },
  {
   "cell_type": "code",
   "execution_count": 1,
   "id": "b04140fe",
   "metadata": {},
   "outputs": [
    {
     "name": "stdout",
     "output_type": "stream",
     "text": [
      "1\n",
      "2\n",
      "3\n",
      "4\n",
      "5\n",
      "6\n",
      "7\n",
      "8\n",
      "9\n",
      "10\n",
      "1\n",
      "2\n",
      "3\n",
      "4\n",
      "5\n",
      "6\n",
      "7\n",
      "8\n",
      "9\n",
      "10\n"
     ]
    }
   ],
   "source": [
    "\"\"\"12. Write a short program that prints the numbers 1 to 10 using a for loop. \n",
    "Then write an equivalent program that prints the numbers 1 to 10 using a while loop.\"\"\"\n",
    "\n",
    "for i in range(1,11):\n",
    "    print(i)\n",
    "    \n",
    "x = 1    \n",
    "while x <= 10:\n",
    "    print(x)\n",
    "    x = x+1"
   ]
  },
  {
   "cell_type": "code",
   "execution_count": null,
   "id": "1cd06f5b",
   "metadata": {},
   "outputs": [],
   "source": [
    "13. If you had a function named bacon() inside a module named spam, how would you call it after importing spam?\n",
    "\n",
    "Ans : import spam\n",
    "      spam.bacon()"
   ]
  }
 ],
 "metadata": {
  "kernelspec": {
   "display_name": "Python 3 (ipykernel)",
   "language": "python",
   "name": "python3"
  },
  "language_info": {
   "codemirror_mode": {
    "name": "ipython",
    "version": 3
   },
   "file_extension": ".py",
   "mimetype": "text/x-python",
   "name": "python",
   "nbconvert_exporter": "python",
   "pygments_lexer": "ipython3",
   "version": "3.9.16"
  }
 },
 "nbformat": 4,
 "nbformat_minor": 5
}
