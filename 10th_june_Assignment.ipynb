{
 "cells": [
  {
   "cell_type": "code",
   "execution_count": null,
   "id": "1b96c65e",
   "metadata": {},
   "outputs": [],
   "source": [
    "1. In Python, what is the difference between a built-in function and a user-defined function? Provide an\n",
    "example of each.\n",
    "\n",
    "Ans : 1. Buil-in-functions : These are predefined functions provided by python programming\n",
    "        language. These functions are available for use without the need to define them explicitly.\n",
    "        Python provides a wide range of built-in functions that perform various operations. \n",
    "        \n",
    "        Ex : print() -- this is in-built output function. which is used to print output or any msg\n",
    "                        on the console.\n",
    "                \n",
    "      2. User-defined functions : User-defined functions are functions that are defined by the user to \n",
    "        perform specific tasks or operations. it can be created by using def keyword.we can \n",
    "        create your own functions to modularize your code and make it more organized. \n",
    "        \n",
    "        Ex : def calculate_addition(a,b):\n",
    "                x = a+b\n",
    "                return x"
   ]
  },
  {
   "cell_type": "code",
   "execution_count": 1,
   "id": "79695e81",
   "metadata": {},
   "outputs": [
    {
     "name": "stdout",
     "output_type": "stream",
     "text": [
      "Hello\n"
     ]
    },
    {
     "data": {
      "text/plain": [
       "9"
      ]
     },
     "execution_count": 1,
     "metadata": {},
     "output_type": "execute_result"
    }
   ],
   "source": [
    "# Buil-in fubctions\n",
    "print(\"Hello\")\n",
    "\n",
    "# User-Defined functions\n",
    "def calculate_addition(a,b):\n",
    "    x = a+b\n",
    "    return x\n",
    "\n",
    "calculate_addition(2,7)"
   ]
  },
  {
   "cell_type": "code",
   "execution_count": null,
   "id": "17c47a1f",
   "metadata": {},
   "outputs": [],
   "source": [
    "2. How can you pass arguments to a function in Python? Explain the difference between positional\n",
    "arguments and keyword arguments.\n",
    "\n",
    "Ans : At the time of calling fuction we can pass arguments.\n",
    "     Possitional arguments : while passing possitional arguments the order of arguments\n",
    "     should be maintained. function will take order as per we are passing it as input.\n",
    "        \n",
    "     Keyword Arguments : Keyword arguments are passed with the argument names as keywords. \n",
    "     This allows you to specify the argument values explicitly, regardless of their order in \n",
    "     the function's' parameter list. Keyword arguments are particularly useful when a function \n",
    "     has many parameters, and you want to provide values for specific parameters without relying on their positions."
   ]
  },
  {
   "cell_type": "code",
   "execution_count": null,
   "id": "83dfee00",
   "metadata": {},
   "outputs": [],
   "source": [
    "3. What is the purpose of the return statement in a function? Can a function have multiple return\n",
    "statements? Explain with an example.\n",
    "\n",
    "Ans : return is used for returning the output of that function. so that we\n",
    "     can use it anywhere else in the program. we can use multiple return statements \n",
    "     but However, once a return statement is executed, the function exits, and no further\n",
    "     code within that function is executed.\n"
   ]
  },
  {
   "cell_type": "code",
   "execution_count": 2,
   "id": "fc8ed3de",
   "metadata": {},
   "outputs": [
    {
     "data": {
      "text/plain": [
       "'3 is odd'"
      ]
     },
     "execution_count": 2,
     "metadata": {},
     "output_type": "execute_result"
    }
   ],
   "source": [
    "# return - example\n",
    "\n",
    "def check_even_odd(a):\n",
    "    if a % 2 == 0:\n",
    "        return f\"{a} is even\"\n",
    "    else:\n",
    "        return f\"{a} is odd\"\n",
    "\n",
    "check_even_odd(3)"
   ]
  },
  {
   "cell_type": "code",
   "execution_count": null,
   "id": "14a7d7e6",
   "metadata": {},
   "outputs": [],
   "source": [
    "4. What are lambda functions in Python? How are they different from regular functions? Provide an\n",
    "example where a lambda function can be useful.\n",
    "\n",
    "Ans : The lambda functions are simple anonymous functions in python which are used\n",
    "     to perform simple operations or mathematical task. it will avoid full pledged definition\n",
    "     of function.\n",
    "    "
   ]
  },
  {
   "cell_type": "code",
   "execution_count": 7,
   "id": "a65446e1",
   "metadata": {},
   "outputs": [
    {
     "name": "stdout",
     "output_type": "stream",
     "text": [
      "25.0\n"
     ]
    }
   ],
   "source": [
    "# Lambda Function\n",
    "\n",
    "# suppose we want to calculate avg of 4 numbers then we can use lambda function for it.\n",
    "\n",
    "cal_avg = lambda a,b,c,d: (a+b+c+d)/4\n",
    "\n",
    "result = cal_avg(10,20,30,40)\n",
    "print(result)"
   ]
  },
  {
   "cell_type": "code",
   "execution_count": null,
   "id": "75c16eb2",
   "metadata": {},
   "outputs": [],
   "source": [
    "5. How does the concept of \"scope\" apply to functions in Python? Explain the difference between local\n",
    "scope and global scope.\n",
    "\n",
    "Ans : \"Scope\" means we can say context in which the variables can be accessed. it can not\n",
    "    be accessed.\n",
    "    \n",
    "    1. Local Scope : when the variables will be declared inside the function then we can say\n",
    "                     they have local scope. it can be accessible within that function only. we \n",
    "                     can not access it from outside.\n",
    "                \n",
    "    2. Global Scope : Global scope refers to the outermost level of the script or module. Variables \n",
    "                      defined at this level are considered global and can be accessed from any part of the code,"
   ]
  },
  {
   "cell_type": "code",
   "execution_count": 10,
   "id": "327475e2",
   "metadata": {},
   "outputs": [
    {
     "name": "stdout",
     "output_type": "stream",
     "text": [
      "x is:  10\n",
      "inside function x is :  10\n"
     ]
    },
    {
     "ename": "NameError",
     "evalue": "name 'a' is not defined",
     "output_type": "error",
     "traceback": [
      "\u001b[1;31m---------------------------------------------------------------------------\u001b[0m",
      "\u001b[1;31mNameError\u001b[0m                                 Traceback (most recent call last)",
      "Cell \u001b[1;32mIn[10], line 17\u001b[0m\n\u001b[0;32m     14\u001b[0m \u001b[38;5;28;01mdef\u001b[39;00m \u001b[38;5;21mtest2\u001b[39m():\n\u001b[0;32m     15\u001b[0m     a \u001b[38;5;241m=\u001b[39m \u001b[38;5;241m20\u001b[39m\n\u001b[1;32m---> 17\u001b[0m \u001b[38;5;28mprint\u001b[39m(\u001b[43ma\u001b[49m)\n",
      "\u001b[1;31mNameError\u001b[0m: name 'a' is not defined"
     ]
    }
   ],
   "source": [
    "# Global scope.\n",
    "\n",
    "x = 10 # global\n",
    "\n",
    "print(\"x is: \",x)\n",
    "def test():\n",
    "    print(\"inside function x is : \",x)\n",
    "   \n",
    "test()\n",
    "\n",
    "\n",
    "# Local Scope.\n",
    "\n",
    "def test2():\n",
    "    a = 20\n",
    "    \n",
    "print(a) # printing local variable of test2 function from outside the function\n",
    "        # it will not be accessible outside the function."
   ]
  },
  {
   "cell_type": "code",
   "execution_count": null,
   "id": "514525e8",
   "metadata": {},
   "outputs": [],
   "source": [
    "6. How can you use the \"return\" statement in a Python function to return multiple values?\n",
    "\n",
    "Ans : \n",
    "    In Python, you can use the return statement in a function to return multiple values by returning \n",
    "them as a tuple, list, or other iterable object. When you return multiple values, they are\n",
    "bundled together and can be unpacked when the function is called.\n"
   ]
  },
  {
   "cell_type": "code",
   "execution_count": 11,
   "id": "e982e6db",
   "metadata": {},
   "outputs": [
    {
     "name": "stdout",
     "output_type": "stream",
     "text": [
      "('Akshay', 30, 'abc@example.com')\n"
     ]
    }
   ],
   "source": [
    "def get_user_info():\n",
    "    name = \"Akshay\"\n",
    "    age = 30\n",
    "    email = \"abc@example.com\"\n",
    "    return name, age, email\n",
    "\n",
    "x = get_user_info()\n",
    "print(x)"
   ]
  },
  {
   "cell_type": "code",
   "execution_count": null,
   "id": "230bdef3",
   "metadata": {},
   "outputs": [],
   "source": [
    "7. What is the difference between the \"pass by value\" and \"pass by reference\" concepts when it\n",
    "comes to function arguments in Python?\n",
    "\n",
    "Ans : Pass by Value:\n",
    "       In pass by value, a copy of the actual value of the variable is passed to the function. Any changes made\n",
    "       to the parameter inside the function do not affect the original variable outside the function.\n",
    "      Pass by Reference:\n",
    "       In pass by reference, a reference to the original variable (memory location) is passed to the function. \n",
    "      Any changes made to the parameter inside the function affect the original variable outside the function.\n",
    "      "
   ]
  },
  {
   "cell_type": "code",
   "execution_count": null,
   "id": "0454b161",
   "metadata": {},
   "outputs": [],
   "source": [
    "8. Create a function that can intake integer or decimal value and do following operations:\n",
    "    \n",
    "a. Logarithmic function (log x)\n",
    "b. Exponential function (exp(x))\n",
    "c. Power function with base 2(2^x)\n",
    "d. Square root\n"
   ]
  },
  {
   "cell_type": "code",
   "execution_count": 12,
   "id": "41146415",
   "metadata": {},
   "outputs": [
    {
     "name": "stdout",
     "output_type": "stream",
     "text": [
      "Logarithmic (log x): 1.0986122886681098\n",
      "Exponential (exp(x)): 20.085536923187668\n",
      "Power (2^x): 8.0\n",
      "Square root: 1.7320508075688772\n"
     ]
    }
   ],
   "source": [
    "import math\n",
    "\n",
    "def mathematical_operations(value):\n",
    "    results = {\n",
    "        \"Logarithmic (log x)\": math.log(value),\n",
    "        \"Exponential (exp(x))\": math.exp(value),\n",
    "        \"Power (2^x)\": math.pow(2, value),\n",
    "        \"Square root\": math.sqrt(value)\n",
    "    }\n",
    "    \n",
    "    return results\n",
    "\n",
    "# Test the function with an example value\n",
    "input_value = 3.0\n",
    "operations_results = mathematical_operations(input_value)\n",
    "\n",
    "for operation, result in operations_results.items():\n",
    "    print(f\"{operation}: {result}\")\n"
   ]
  },
  {
   "cell_type": "code",
   "execution_count": null,
   "id": "15b95e5a",
   "metadata": {},
   "outputs": [],
   "source": [
    "9. Create a function that takes a full name as an argument and returns first name and last name.\n"
   ]
  },
  {
   "cell_type": "code",
   "execution_count": 2,
   "id": "12257bf5",
   "metadata": {},
   "outputs": [
    {
     "name": "stdout",
     "output_type": "stream",
     "text": [
      "Enter your full name: Akshay Kadam\n"
     ]
    },
    {
     "data": {
      "text/plain": [
       "{'First_name': 'Akshay', 'Last_name': 'Kadam'}"
      ]
     },
     "execution_count": 2,
     "metadata": {},
     "output_type": "execute_result"
    }
   ],
   "source": [
    "def split_name():\n",
    "    \n",
    "    a = input(\"Enter your full name: \")\n",
    "    \n",
    "    return {\n",
    "        \"First_name\":a.split(\" \")[0],\n",
    "        \"Last_name\":a.split(\" \")[1]\n",
    "    }\n",
    "\n",
    "split_name()"
   ]
  },
  {
   "cell_type": "code",
   "execution_count": 4,
   "id": "45b1d910",
   "metadata": {},
   "outputs": [
    {
     "name": "stdout",
     "output_type": "stream",
     "text": [
      "Enter your full name: Akshay Kadam\n"
     ]
    },
    {
     "data": {
      "text/plain": [
       "'First name is : Akshay and last_name is :Kadam'"
      ]
     },
     "execution_count": 4,
     "metadata": {},
     "output_type": "execute_result"
    }
   ],
   "source": [
    "def split_name():\n",
    "    \n",
    "    a = input(\"Enter your full name: \")\n",
    "    First_name = a.split(\" \")[0]\n",
    "    Last_name = a.split(\" \")[1]\n",
    "    \n",
    "    return f\"First name is : {First_name} and last_name is :{Last_name}\"\n",
    "\n",
    "split_name()"
   ]
  },
  {
   "cell_type": "code",
   "execution_count": null,
   "id": "3d94d7a4",
   "metadata": {},
   "outputs": [],
   "source": []
  }
 ],
 "metadata": {
  "kernelspec": {
   "display_name": "Python 3 (ipykernel)",
   "language": "python",
   "name": "python3"
  },
  "language_info": {
   "codemirror_mode": {
    "name": "ipython",
    "version": 3
   },
   "file_extension": ".py",
   "mimetype": "text/x-python",
   "name": "python",
   "nbconvert_exporter": "python",
   "pygments_lexer": "ipython3",
   "version": "3.9.16"
  }
 },
 "nbformat": 4,
 "nbformat_minor": 5
}
