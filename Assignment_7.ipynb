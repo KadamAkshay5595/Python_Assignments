{
 "cells": [
  {
   "cell_type": "code",
   "execution_count": null,
   "id": "b0ef8e0c",
   "metadata": {},
   "outputs": [],
   "source": [
    "Q.1. Create two int type variables, apply addition, subtraction, division and multiplications\n",
    "and store the results in variables. Then print the data in the following format by calling the\n",
    "variables:\n",
    "First variable is __ & second variable is __.\n",
    "Addition: __ + __ = __\n",
    "Subtraction: __ - __ = __\n",
    "Multiplication: __ * __ = __\n",
    "Division: __ / __ = __\n",
    "    \n"
   ]
  },
  {
   "cell_type": "code",
   "execution_count": 2,
   "id": "588288d7",
   "metadata": {},
   "outputs": [
    {
     "name": "stdout",
     "output_type": "stream",
     "text": [
      "Enter 1st num: 10\n",
      "Enter 2nd num: 5\n",
      "Addition: 10+5 = 15\n",
      "Substraction: 10-5 = 5\n",
      "Multiplication: 10*5 = 50\n",
      "Division: 10/5 = 2.0\n"
     ]
    }
   ],
   "source": [
    "a = int(input(\"Enter 1st num: \"))\n",
    "b = int(input(\"Enter 2nd num: \"))\n",
    "\n",
    "add_result = a+b\n",
    "print(f\"Addition: {a}+{b} = {add_result}\")\n",
    "\n",
    "sub_result = a-b\n",
    "print(f\"Substraction: {a}-{b} = {sub_result}\")\n",
    "\n",
    "multiplication_result = a*b\n",
    "print(f\"Multiplication: {a}*{b} = {multiplication_result}\")\n",
    "\n",
    "div_result = a/b\n",
    "print(f\"Division: {a}/{b} = {div_result}\")"
   ]
  },
  {
   "cell_type": "code",
   "execution_count": null,
   "id": "bb64bdd5",
   "metadata": {},
   "outputs": [],
   "source": [
    "Q.2. What is the difference between the following operators:\n",
    "(i) ‘/’ & ‘//’\n",
    "(ii) ‘**’ & ‘^’\n",
    "\n",
    "Ans : \n",
    "    i) \"/\"  : This is division operator which is used to perform simple divisions\n",
    "              result will be floating number.\n",
    "            \n",
    "        '//' : This is Floar division operator. it will also perform the division but the\n",
    "              result will be round down to nearest integer.\n",
    "                \n",
    "    ii) '**' : This is Exponentiation operator. The ** operator is used for exponentiation. It raises \n",
    "               the left operand to the power of the right operand.      \n",
    "    \n",
    "        '^'  : The ^ operator is used for bitwise XOR (exclusive OR) operation. It performs a bitwise \n",
    "            XOR between the individual bits of two operands. It is used in binary manipulation."
   ]
  },
  {
   "cell_type": "code",
   "execution_count": null,
   "id": "27bc4d09",
   "metadata": {},
   "outputs": [],
   "source": [
    "Q.3. List the logical operators.\n",
    "\n",
    "Ans : The logical operators are used to perform logical operations on one or more boolean values. \n",
    "      They are often used in programming to make decisions based on conditions. The common logical operators are:\n",
    "\n",
    "1 . AND (&& or and): Returns true if both operands are true.\n",
    "\n",
    "2 . OR (|| or or): Returns true if at least one operand is true.\n",
    "\n",
    "3 . NOT (! or not): Returns the opposite boolean value of the operand. If the operand is true,\n",
    "                    NOT returns false; if the operand is false, NOT returns true."
   ]
  },
  {
   "cell_type": "code",
   "execution_count": null,
   "id": "2b06cdf8",
   "metadata": {},
   "outputs": [],
   "source": [
    "Q.4. Explain right shift operator and left shift operator with examples.\n",
    "\n",
    "Ans : \n",
    "    The right shift (>>) and left shift (<<) operators are bitwise operators used in programming to shift the\n",
    "    bits of a binary number to the right or left, respectively. \n",
    "    "
   ]
  },
  {
   "cell_type": "code",
   "execution_count": 3,
   "id": "4b62e773",
   "metadata": {},
   "outputs": [
    {
     "name": "stdout",
     "output_type": "stream",
     "text": [
      "0b10001\n",
      "0b100\n",
      "0b1000\n",
      "0b1000000\n"
     ]
    }
   ],
   "source": [
    "# Right Shift Example\n",
    "\n",
    "num = 17  # Binary: 10001\n",
    "print(bin(num))\n",
    "shifted_right = num >> 2\n",
    "print(bin(shifted_right))  # Output: 100 (Binary representation of 4)\n",
    "\n",
    "# Left Shift Example\n",
    "num = 8  # Binary: 1000\n",
    "print(bin(num))\n",
    "shifted_left = num << 3\n",
    "print(bin(shifted_left))   # Output: 1000000 (Binary representation of 64)\n"
   ]
  },
  {
   "cell_type": "code",
   "execution_count": null,
   "id": "b864c392",
   "metadata": {},
   "outputs": [],
   "source": [
    "Q.5. Create a list containing int type data of length 15. Then write a code to check if 10 is\n",
    "present in the list or not.\n"
   ]
  },
  {
   "cell_type": "code",
   "execution_count": 7,
   "id": "2653c65a",
   "metadata": {},
   "outputs": [
    {
     "name": "stdout",
     "output_type": "stream",
     "text": [
      "length of list is :  15\n",
      "10 is present in list\n"
     ]
    }
   ],
   "source": [
    "l = [3,4,5,9,7,1,2,12,32,45,76,89,10,21,85]\n",
    "\n",
    "print(\"length of list is : \",len(l))\n",
    "\n",
    "if 10 in l:\n",
    "    print(\"10 is present in list\")\n",
    "else:\n",
    "    print(\"10 is not present in the list\")\n",
    "        \n"
   ]
  },
  {
   "cell_type": "code",
   "execution_count": null,
   "id": "58b910ec",
   "metadata": {},
   "outputs": [],
   "source": []
  }
 ],
 "metadata": {
  "kernelspec": {
   "display_name": "Python 3 (ipykernel)",
   "language": "python",
   "name": "python3"
  },
  "language_info": {
   "codemirror_mode": {
    "name": "ipython",
    "version": 3
   },
   "file_extension": ".py",
   "mimetype": "text/x-python",
   "name": "python",
   "nbconvert_exporter": "python",
   "pygments_lexer": "ipython3",
   "version": "3.9.16"
  }
 },
 "nbformat": 4,
 "nbformat_minor": 5
}
