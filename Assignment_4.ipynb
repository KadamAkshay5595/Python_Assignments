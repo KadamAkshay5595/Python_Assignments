{
 "cells": [
  {
   "cell_type": "code",
   "execution_count": null,
   "id": "086d91fd",
   "metadata": {},
   "outputs": [],
   "source": [
    "1. What exactly is []?\n",
    "\n",
    "Ans : These are the square brackets. [] is used to create list in python. list\n",
    "      is one of the data structure in python."
   ]
  },
  {
   "cell_type": "code",
   "execution_count": null,
   "id": "d5f2e028",
   "metadata": {},
   "outputs": [],
   "source": [
    "2. In a list of values stored in a variable called spam, how would you assign the value 'hello' as the third value? \n",
    "(Assume [2, 4, 6, 8, 10] are in spam.)\n",
    "\n",
    "Ans : by using indexing we can add values in list. it starts from 0, so third value means index will be 2\n",
    "    spam[2] = \"hello\"\n",
    "    "
   ]
  },
  {
   "cell_type": "code",
   "execution_count": 1,
   "id": "bd5fa9f1",
   "metadata": {},
   "outputs": [
    {
     "name": "stdout",
     "output_type": "stream",
     "text": [
      "[2, 4, 'hello', 8, 10]\n"
     ]
    }
   ],
   "source": [
    "spam = [2,4,6,8,10]\n",
    "spam[2] = \"hello\"\n",
    "print(spam)"
   ]
  },
  {
   "cell_type": "markdown",
   "id": "7f79c4b9",
   "metadata": {},
   "source": [
    "Let's pretend the spam includes the list ['a', 'b', 'c', 'd'] for the next three queries."
   ]
  },
  {
   "cell_type": "code",
   "execution_count": null,
   "id": "7c4760da",
   "metadata": {},
   "outputs": [],
   "source": [
    "3. What is the value of spam[int(int('3' * 2) / 11)]?\n",
    "\n",
    "Ans : The value will be spam[3] = d"
   ]
  },
  {
   "cell_type": "code",
   "execution_count": null,
   "id": "68ceab65",
   "metadata": {},
   "outputs": [],
   "source": [
    "4. What is the value of spam[-1]? \n",
    "\n",
    "Ans : spam[-1] = d"
   ]
  },
  {
   "cell_type": "code",
   "execution_count": null,
   "id": "78454ac7",
   "metadata": {},
   "outputs": [],
   "source": [
    "5. What is the value of spam[:2]?\n",
    "\n",
    "Ans : spam[:2] = ['a','b']"
   ]
  },
  {
   "cell_type": "markdown",
   "id": "e8065eb2",
   "metadata": {},
   "source": [
    "Let's pretend bacon has the list [3.14, 'cat,' 11, 'cat,' True] for the next three questions."
   ]
  },
  {
   "cell_type": "code",
   "execution_count": null,
   "id": "d7208744",
   "metadata": {},
   "outputs": [],
   "source": [
    "6. What is the value of bacon.index('cat')?\n",
    "\n",
    "Ans : index of cat will be 1"
   ]
  },
  {
   "cell_type": "code",
   "execution_count": null,
   "id": "a6d145d6",
   "metadata": {},
   "outputs": [],
   "source": [
    "7. How does bacon.append(99) change the look of the list value in bacon?\n",
    "\n",
    "Ans : This value 99 will be added as last element of list. and new list will be\n",
    "      [3.14, 'cat', 11, 'cat', True,99]"
   ]
  },
  {
   "cell_type": "code",
   "execution_count": null,
   "id": "ab1f353c",
   "metadata": {},
   "outputs": [],
   "source": [
    "8. How does bacon.remove('cat') change the look of the list in bacon?\n",
    "\n",
    "Ans : the new list will be ['3.24',11,'cat',True]"
   ]
  },
  {
   "cell_type": "code",
   "execution_count": null,
   "id": "08dbb0d4",
   "metadata": {},
   "outputs": [],
   "source": [
    "9. What are the list concatenation and list replication operators?\n",
    "\n",
    "Ans : 1. concatenation = it means merging two list together\n",
    "      2. replication operator means we can repeat same elements in list multiple time and create new list\n",
    "        "
   ]
  },
  {
   "cell_type": "code",
   "execution_count": null,
   "id": "f0b7657e",
   "metadata": {},
   "outputs": [],
   "source": [
    "l1 = [1,2,3]"
   ]
  },
  {
   "cell_type": "code",
   "execution_count": null,
   "id": "aabf4b07",
   "metadata": {},
   "outputs": [],
   "source": [
    "10. What is difference between the list methods append() and insert()?\n",
    "\n",
    "Ans : These two methods are used to add new elements in the list.\n",
    "    1. append - It takes only one argument i.e element which we want to add in list.\n",
    "                and that element will be added at the last of list.\n",
    "    2. insert - It takes 2 argument. 1st is index and 2nd is element which we wants to add inside list\n",
    "                if we want to add element at specific index then we can use insert.\n",
    "        "
   ]
  },
  {
   "cell_type": "code",
   "execution_count": 3,
   "id": "42703b82",
   "metadata": {},
   "outputs": [
    {
     "name": "stdout",
     "output_type": "stream",
     "text": [
      "l1 :  [1, 2, 3, 4, 5]\n",
      "l1 after append :  [1, 2, 3, 4, 5, 6]\n",
      "l1 after insert :  [1, 2, 9, 3, 4, 5, 6]\n"
     ]
    }
   ],
   "source": [
    "l1 = [1,2,3,4,5]\n",
    "print(\"l1 : \",l1)\n",
    "\n",
    "l1.append(6)\n",
    "print(\"l1 after append : \",l1)\n",
    "\n",
    "l1.insert(2,9)\n",
    "print(\"l1 after insert : \",l1)"
   ]
  },
  {
   "cell_type": "code",
   "execution_count": null,
   "id": "e2062022",
   "metadata": {},
   "outputs": [],
   "source": [
    "11. What are the two methods for removing items from a list?\n",
    "\n",
    "Ans : there are 2 methods - remove,pop\n",
    "    1. remove - it will take one argument i.e element. it will remove first occurance of that element\n",
    "    2. pop - it will also take one argument i.e index of element. and it will remove that element\n",
    "    "
   ]
  },
  {
   "cell_type": "code",
   "execution_count": 4,
   "id": "0f1c45ba",
   "metadata": {},
   "outputs": [
    {
     "name": "stdout",
     "output_type": "stream",
     "text": [
      "[1, 2, 3, 3, 4, 5]\n",
      "[1, 2, 3, 4, 5]\n",
      "[1, 3, 4, 5]\n"
     ]
    }
   ],
   "source": [
    "l1 = [1,2,3,3,4,5]\n",
    "print(l1)\n",
    "\n",
    "l1.remove(3)\n",
    "print(l1)\n",
    "\n",
    "l1.pop(1)\n",
    "print(l1)"
   ]
  },
  {
   "cell_type": "code",
   "execution_count": null,
   "id": "5002a402",
   "metadata": {},
   "outputs": [],
   "source": [
    "12. Describe how list values and string values are identical.\n",
    "\n",
    "Ans : Both are the sequence of values and maintains order of that values.\n",
    "      we can do indexing and slicing on both.\n",
    "      on both of them we can use loops for iteration.  "
   ]
  },
  {
   "cell_type": "code",
   "execution_count": null,
   "id": "c703a90c",
   "metadata": {},
   "outputs": [],
   "source": [
    "13. What's the difference between tuples and lists?\n",
    "\n",
    "Ans : Tupels are created by using '()' whereas lists are created by using '[]'.\n",
    "    Tupels are immutable and lists are mutable."
   ]
  },
  {
   "cell_type": "code",
   "execution_count": null,
   "id": "726fa7ad",
   "metadata": {},
   "outputs": [],
   "source": [
    "14. How do you type a tuple value that only contains the integer 42?\n",
    "\n",
    "Ans : a = (42,)\n",
    "      we can define tuple like this. comma is needed after 42 otherwise it will be\n",
    "      considerd as expression in python."
   ]
  },
  {
   "cell_type": "code",
   "execution_count": 9,
   "id": "528bab51",
   "metadata": {},
   "outputs": [
    {
     "name": "stdout",
     "output_type": "stream",
     "text": [
      "(42,)\n",
      "<class 'tuple'>\n"
     ]
    }
   ],
   "source": [
    "a = (42,)\n",
    "print(a)\n",
    "print(type(a))"
   ]
  },
  {
   "cell_type": "code",
   "execution_count": null,
   "id": "e16d94d7",
   "metadata": {},
   "outputs": [],
   "source": [
    "15. How do you get a list value's tuple form? How do you get a tuple value's list form?\n",
    "\n",
    "Ans : we can convert list into tuple by using tuple(list[]) and similarly we can convert tuple into list "
   ]
  },
  {
   "cell_type": "code",
   "execution_count": 11,
   "id": "30f5a23f",
   "metadata": {},
   "outputs": [
    {
     "name": "stdout",
     "output_type": "stream",
     "text": [
      "('a', 'b', 'c') <class 'tuple'>\n",
      "['a', 'b', 'c'] <class 'list'>\n"
     ]
    }
   ],
   "source": [
    "a = ['a','b','c']\n",
    "a = tuple(a)\n",
    "print(a,type(a))\n",
    "\n",
    "b = ('a','b','c')\n",
    "b = list(b)\n",
    "print(b, type(b))"
   ]
  },
  {
   "cell_type": "code",
   "execution_count": null,
   "id": "2f6779e2",
   "metadata": {},
   "outputs": [],
   "source": [
    "16. Variables that \"contain\" list values are not necessarily lists themselves. Instead, what do they contain?\n",
    "\n",
    "Ans : It contains the reference of that values or we can say memory address of that\n",
    "      values where they are stored."
   ]
  },
  {
   "cell_type": "code",
   "execution_count": null,
   "id": "baf939ad",
   "metadata": {},
   "outputs": [],
   "source": [
    "17. How do you distinguish between copy.copy() and copy.deepcopy()?\n",
    "\n",
    "Ans : copy.copy() - it will create shallow copy of that object. it will not copy the original object within that copy.\n",
    "      it will only create reference to that original object. and when we make any change in shallow copy\n",
    "      it will affect original object\n",
    "      \n",
    "      copy.deepcopy() - it will create exact copy of original object. when we make any change in \n",
    "      that copy then it will not affect original object."
   ]
  },
  {
   "cell_type": "code",
   "execution_count": 19,
   "id": "0b1f9f97",
   "metadata": {},
   "outputs": [
    {
     "name": "stdout",
     "output_type": "stream",
     "text": [
      "['a', ['x', 'c'], 'd']\n",
      "['A', ['B', 'C'], 'D']\n"
     ]
    }
   ],
   "source": [
    "import copy\n",
    "\n",
    "# copy.copy()\n",
    "\n",
    "original_list = ['a', ['b', 'c'], 'd']\n",
    "shallow_copy = copy.copy(original_list)\n",
    "\n",
    "# Modifying the nested list in the shallow copy affects the original.\n",
    "shallow_copy[1][0] = 'x'\n",
    "print(original_list)  \n",
    "\n",
    "original_list = ['A', ['B', 'C'], 'D']\n",
    "deep_copy = copy.deepcopy(original_list)\n",
    "\n",
    "# Modifying the nested list in the deep copy does not affect the original.\n",
    "deep_copy[1][0] = 'Y'\n",
    "print(original_list)  # Output: [1, [2, 3], 4]"
   ]
  },
  {
   "cell_type": "code",
   "execution_count": null,
   "id": "a579841e",
   "metadata": {},
   "outputs": [],
   "source": []
  },
  {
   "cell_type": "code",
   "execution_count": null,
   "id": "1d7e67fc",
   "metadata": {},
   "outputs": [],
   "source": []
  }
 ],
 "metadata": {
  "kernelspec": {
   "display_name": "Python 3 (ipykernel)",
   "language": "python",
   "name": "python3"
  },
  "language_info": {
   "codemirror_mode": {
    "name": "ipython",
    "version": 3
   },
   "file_extension": ".py",
   "mimetype": "text/x-python",
   "name": "python",
   "nbconvert_exporter": "python",
   "pygments_lexer": "ipython3",
   "version": "3.11.3"
  }
 },
 "nbformat": 4,
 "nbformat_minor": 5
}
