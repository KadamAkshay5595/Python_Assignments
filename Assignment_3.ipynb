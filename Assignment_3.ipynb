{
 "cells": [
  {
   "cell_type": "code",
   "execution_count": null,
   "id": "e1788506",
   "metadata": {},
   "outputs": [],
   "source": [
    "1. Why are functions advantageous to have in your programs?\n",
    "\n",
    "Ans:\n",
    "    1. Functions allow you to break down your program into smaller, manageable chunks of code.\n",
    "    2.  You can use a function without needing to know how it's implemented. \n",
    "    This promotes a clear separation of concerns and helps in building complex systems by focusing on high-level functionality.\n",
    "    3.it make it easier to test specific parts of your program.\n",
    "    4. functions enhance the readability of your code."
   ]
  },
  {
   "cell_type": "code",
   "execution_count": null,
   "id": "b07398fc",
   "metadata": {},
   "outputs": [],
   "source": [
    "2. When does the code in a function run: when it's specified or when it's called?\n",
    "    \n",
    "Ans:\n",
    "    when we call function then only it will run\n",
    "    ex- \n",
    "       def test():\n",
    "            pass\n",
    "        \n",
    "       test() # function calling for execution."
   ]
  },
  {
   "cell_type": "code",
   "execution_count": null,
   "id": "bd52ff3a",
   "metadata": {},
   "outputs": [],
   "source": [
    "3. What statement creates a function?\n",
    "\n",
    "Ans : 'def' keyword is used to create any function"
   ]
  },
  {
   "cell_type": "code",
   "execution_count": null,
   "id": "4f6250cd",
   "metadata": {},
   "outputs": [],
   "source": [
    "4. What is the difference between a function and a function call?\n",
    "\n",
    "Ans : Function means create a set of code that performs a specific task.\n",
    "      Function call means invoking that function. after calling that function execution of\n",
    "      the code will starts."
   ]
  },
  {
   "cell_type": "code",
   "execution_count": null,
   "id": "59d6426c",
   "metadata": {},
   "outputs": [],
   "source": [
    "5. How many global scopes are there in a Python program? How many local scopes?\n",
    "\n",
    "Ans : golbal scope is one and local scopes are many.\n",
    "      global scope means we can that variable can be accessible through anywhere in the program.\n",
    "      it is available for all instances. local scope means that are available for that specific \n",
    "      part of the program like function variables. we can make it accessible for that function only. "
   ]
  },
  {
   "cell_type": "code",
   "execution_count": null,
   "id": "151e54ab",
   "metadata": {},
   "outputs": [],
   "source": [
    "6. What happens to variables in a local scope when the function call returns?\n",
    "\n",
    "Ans : When a function call returns in Python, the local scope associated with that function is destroyed, \n",
    "      and the variables defined within that local scope go out of scope. "
   ]
  },
  {
   "cell_type": "code",
   "execution_count": null,
   "id": "c192468f",
   "metadata": {},
   "outputs": [],
   "source": [
    "7. What is the concept of a return value? Is it possible to have a return value in an expression?\n",
    "\n",
    "Ans : \n",
    "   The concept of a return value in programming refers to the value that a function provides as its output\n",
    "when it completes its execution. When a function is called and it contains a return statement, \n",
    "that statement specifies the value or values that the function will produce and provide to the caller.\n",
    "Yes, it is possible to have a return value in an expression."
   ]
  },
  {
   "cell_type": "code",
   "execution_count": null,
   "id": "81dd1fd0",
   "metadata": {},
   "outputs": [],
   "source": [
    "8. If a function does not have a return statement, what is the return value of a call to that function?\n",
    "\n",
    "Ans : if function dont have return value then it will return 'none'"
   ]
  },
  {
   "cell_type": "code",
   "execution_count": null,
   "id": "c47fb58e",
   "metadata": {},
   "outputs": [],
   "source": [
    "9. How do you make a function variable refer to the global variable?\n",
    "\n",
    "Ans : if we want to use a global variable within a function and modify its value, we need to explicitly declare \n",
    "    the variable as global using the global keyword. This informs Python that we intend to work with the global variable,\n",
    "    rather than creating a new local variable with the same name."
   ]
  },
  {
   "cell_type": "code",
   "execution_count": null,
   "id": "015540fe",
   "metadata": {},
   "outputs": [],
   "source": [
    "10. What is the data type of None?\n",
    "\n",
    "Ans: \n",
    "    It is a special constant in python which represents the abscence of value or null-value\n",
    "    it has type of none-type"
   ]
  },
  {
   "cell_type": "code",
   "execution_count": null,
   "id": "5aebf37e",
   "metadata": {},
   "outputs": [],
   "source": [
    "11. What does the sentence import areallyourpetsnamederic do?\n",
    "\n",
    "Ans : it will throw ModuleNotFoundError because python does not have module having this name."
   ]
  },
  {
   "cell_type": "code",
   "execution_count": null,
   "id": "c22974f7",
   "metadata": {},
   "outputs": [],
   "source": [
    "12. If you had a bacon() feature in a spam module, what would you call it after importing spam?\n",
    "\n",
    "Ans : we can call it by spam.bacon()"
   ]
  },
  {
   "cell_type": "code",
   "execution_count": null,
   "id": "59f1962d",
   "metadata": {},
   "outputs": [],
   "source": [
    "13. What can you do to save a programme from crashing if it encounters an error?\n",
    "\n",
    "Ans : we can use exception handling to handle any kind of exception/errors \n",
    "      so that our program will be prevented from crashing."
   ]
  },
  {
   "cell_type": "code",
   "execution_count": null,
   "id": "37979bc6",
   "metadata": {},
   "outputs": [],
   "source": [
    "14. What is the purpose of the try clause? What is the purpose of the except clause?\n",
    "\n",
    "Ans : The try and except clauses in Python are used for implementing exception handling, \n",
    "      which allows you to gracefully handle and recover from errors or exceptional situations\n",
    "      that may occur during the execution of your code."
   ]
  }
 ],
 "metadata": {
  "kernelspec": {
   "display_name": "Python 3 (ipykernel)",
   "language": "python",
   "name": "python3"
  },
  "language_info": {
   "codemirror_mode": {
    "name": "ipython",
    "version": 3
   },
   "file_extension": ".py",
   "mimetype": "text/x-python",
   "name": "python",
   "nbconvert_exporter": "python",
   "pygments_lexer": "ipython3",
   "version": "3.9.16"
  }
 },
 "nbformat": 4,
 "nbformat_minor": 5
}
